{
 "cells": [
  {
   "cell_type": "code",
   "execution_count": 1,
   "id": "07458cf9-e22b-47c8-8539-2e3d3c91dddb",
   "metadata": {},
   "outputs": [],
   "source": [
    "import os\n",
    "import requests\n",
    "import numpy as np\n",
    "import polars as pl\n",
    "from io import BytesIO\n",
    "from scipy.io import arff\n",
    "from category_encoders import TargetEncoder, LeaveOneOutEncoder\n",
    "from sklearn.preprocessing import LabelEncoder, LabelBinarizer\n",
    "from sklearn.linear_model import LogisticRegression\n",
    "from sklearn.metrics import accuracy_score, roc_auc_score"
   ]
  },
  {
   "cell_type": "code",
   "execution_count": 2,
   "id": "9a2b9ab2",
   "metadata": {},
   "outputs": [],
   "source": [
    "# consts\n",
    "ARFF_DATASET = 'dataset_31_credit-g.arff'\n",
    "TUNGUZ_DATASET_REPO_URL = 'https://raw.githubusercontent.com/tunguz/TabularBenchmarks/main/datasets/credit-g/input/'"
   ]
  },
  {
   "cell_type": "code",
   "execution_count": 3,
   "id": "ea55d9d8-d00a-4219-9c3c-ab398d36a1bb",
   "metadata": {},
   "outputs": [],
   "source": [
    "url = f'{TUNGUZ_DATASET_REPO_URL}{ARFF_DATASET}'\n",
    "\n",
    "if os.path.exists(ARFF_DATASET):\n",
    "    with open(ARFF_DATASET, 'rt') as f:\n",
    "        data, meta = arff.loadarff(f)\n",
    "else:\n",
    "    response = requests.get(url)\n",
    "    if response.status_code == 200:\n",
    "        with open(ARFF_DATASET, 'wb') as f:\n",
    "            f.write(response.content)\n",
    "        # Reopen the file in text mode for reading with arff.loadarff\n",
    "        with open(ARFF_DATASET, 'rt') as f:\n",
    "            data, meta = arff.loadarff(f)\n",
    "    else:\n",
    "        print(f\"Couldn't download the file: {url}\")\n",
    "\n",
    "arff_data = pl.DataFrame(data)"
   ]
  },
  {
   "cell_type": "code",
   "execution_count": 4,
   "id": "a885cd09-821a-479a-b235-730a2a4ff4ec",
   "metadata": {},
   "outputs": [
    {
     "data": {
      "text/plain": [
       "(b'<0', 6., b'critical/other existing credit', b'radio/tv', 1169., b'no known savings', b'>=7', 4., b'male single', b'none', 4., b'real estate', 67., b'none', b'own', 2., b'skilled', 1., b'yes', b'yes', b'good')"
      ]
     },
     "execution_count": 4,
     "metadata": {},
     "output_type": "execute_result"
    }
   ],
   "source": [
    "data[0]"
   ]
  },
  {
   "cell_type": "code",
   "execution_count": 5,
   "id": "e07b1d8a",
   "metadata": {},
   "outputs": [
    {
     "data": {
      "text/plain": [
       "Dataset: german_credit\n",
       "\tchecking_status's type is nominal, range is ('<0', '0<=X<200', '>=200', 'no checking')\n",
       "\tduration's type is numeric\n",
       "\tcredit_history's type is nominal, range is ('no credits/all paid', 'all paid', 'existing paid', 'delayed previously', 'critical/other existing credit')\n",
       "\tpurpose's type is nominal, range is ('new car', 'used car', 'furniture/equipment', 'radio/tv', 'domestic appliance', 'repairs', 'education', 'vacation', 'retraining', 'business', 'other')\n",
       "\tcredit_amount's type is numeric\n",
       "\tsavings_status's type is nominal, range is ('<100', '100<=X<500', '500<=X<1000', '>=1000', 'no known savings')\n",
       "\temployment's type is nominal, range is ('unemployed', '<1', '1<=X<4', '4<=X<7', '>=7')\n",
       "\tinstallment_commitment's type is numeric\n",
       "\tpersonal_status's type is nominal, range is ('male div/sep', 'female div/dep/mar', 'male single', 'male mar/wid', 'female single')\n",
       "\tother_parties's type is nominal, range is ('none', 'co applicant', 'guarantor')\n",
       "\tresidence_since's type is numeric\n",
       "\tproperty_magnitude's type is nominal, range is ('real estate', 'life insurance', 'car', 'no known property')\n",
       "\tage's type is numeric\n",
       "\tother_payment_plans's type is nominal, range is ('bank', 'stores', 'none')\n",
       "\thousing's type is nominal, range is ('rent', 'own', 'for free')\n",
       "\texisting_credits's type is numeric\n",
       "\tjob's type is nominal, range is ('unemp/unskilled non res', 'unskilled resident', 'skilled', 'high qualif/self emp/mgmt')\n",
       "\tnum_dependents's type is numeric\n",
       "\town_telephone's type is nominal, range is ('none', 'yes')\n",
       "\tforeign_worker's type is nominal, range is ('yes', 'no')\n",
       "\tclass's type is nominal, range is ('good', 'bad')"
      ]
     },
     "execution_count": 5,
     "metadata": {},
     "output_type": "execute_result"
    }
   ],
   "source": [
    "meta"
   ]
  },
  {
   "cell_type": "code",
   "execution_count": 6,
   "id": "b39b1169",
   "metadata": {},
   "outputs": [
    {
     "data": {
      "text/html": [
       "<div><style>\n",
       ".dataframe > thead > tr > th,\n",
       ".dataframe > tbody > tr > td {\n",
       "  text-align: right;\n",
       "}\n",
       "</style>\n",
       "<small>shape: (5, 21)</small><table border=\"1\" class=\"dataframe\"><thead><tr><th>checking_status</th><th>duration</th><th>credit_history</th><th>purpose</th><th>credit_amount</th><th>savings_status</th><th>employment</th><th>installment_commitment</th><th>personal_status</th><th>other_parties</th><th>residence_since</th><th>property_magnitude</th><th>age</th><th>other_payment_plans</th><th>housing</th><th>existing_credits</th><th>job</th><th>num_dependents</th><th>own_telephone</th><th>foreign_worker</th><th>class</th></tr><tr><td>binary</td><td>f64</td><td>binary</td><td>binary</td><td>f64</td><td>binary</td><td>binary</td><td>f64</td><td>binary</td><td>binary</td><td>f64</td><td>binary</td><td>f64</td><td>binary</td><td>binary</td><td>f64</td><td>binary</td><td>f64</td><td>binary</td><td>binary</td><td>binary</td></tr></thead><tbody><tr><td>[binary data]</td><td>6.0</td><td>[binary data]</td><td>[binary data]</td><td>1169.0</td><td>[binary data]</td><td>[binary data]</td><td>4.0</td><td>[binary data]</td><td>[binary data]</td><td>4.0</td><td>[binary data]</td><td>67.0</td><td>[binary data]</td><td>[binary data]</td><td>2.0</td><td>[binary data]</td><td>1.0</td><td>[binary data]</td><td>[binary data]</td><td>[binary data]</td></tr><tr><td>[binary data]</td><td>48.0</td><td>[binary data]</td><td>[binary data]</td><td>5951.0</td><td>[binary data]</td><td>[binary data]</td><td>2.0</td><td>[binary data]</td><td>[binary data]</td><td>2.0</td><td>[binary data]</td><td>22.0</td><td>[binary data]</td><td>[binary data]</td><td>1.0</td><td>[binary data]</td><td>1.0</td><td>[binary data]</td><td>[binary data]</td><td>[binary data]</td></tr><tr><td>[binary data]</td><td>12.0</td><td>[binary data]</td><td>[binary data]</td><td>2096.0</td><td>[binary data]</td><td>[binary data]</td><td>2.0</td><td>[binary data]</td><td>[binary data]</td><td>3.0</td><td>[binary data]</td><td>49.0</td><td>[binary data]</td><td>[binary data]</td><td>1.0</td><td>[binary data]</td><td>2.0</td><td>[binary data]</td><td>[binary data]</td><td>[binary data]</td></tr><tr><td>[binary data]</td><td>42.0</td><td>[binary data]</td><td>[binary data]</td><td>7882.0</td><td>[binary data]</td><td>[binary data]</td><td>2.0</td><td>[binary data]</td><td>[binary data]</td><td>4.0</td><td>[binary data]</td><td>45.0</td><td>[binary data]</td><td>[binary data]</td><td>1.0</td><td>[binary data]</td><td>2.0</td><td>[binary data]</td><td>[binary data]</td><td>[binary data]</td></tr><tr><td>[binary data]</td><td>24.0</td><td>[binary data]</td><td>[binary data]</td><td>4870.0</td><td>[binary data]</td><td>[binary data]</td><td>3.0</td><td>[binary data]</td><td>[binary data]</td><td>4.0</td><td>[binary data]</td><td>53.0</td><td>[binary data]</td><td>[binary data]</td><td>2.0</td><td>[binary data]</td><td>2.0</td><td>[binary data]</td><td>[binary data]</td><td>[binary data]</td></tr></tbody></table></div>"
      ],
      "text/plain": [
       "shape: (5, 21)\n",
       "┌────────────┬──────────┬────────────┬─────────┬───┬────────────┬────────────┬────────────┬────────┐\n",
       "│ checking_s ┆ duration ┆ credit_his ┆ purpose ┆ … ┆ num_depend ┆ own_teleph ┆ foreign_wo ┆ class  │\n",
       "│ tatus      ┆ ---      ┆ tory       ┆ ---     ┆   ┆ ents       ┆ one        ┆ rker       ┆ ---    │\n",
       "│ ---        ┆ f64      ┆ ---        ┆ binary  ┆   ┆ ---        ┆ ---        ┆ ---        ┆ binary │\n",
       "│ binary     ┆          ┆ binary     ┆         ┆   ┆ f64        ┆ binary     ┆ binary     ┆        │\n",
       "╞════════════╪══════════╪════════════╪═════════╪═══╪════════════╪════════════╪════════════╪════════╡\n",
       "│ [binary    ┆ 6.0      ┆ [binary    ┆ [binary ┆ … ┆ 1.0        ┆ [binary    ┆ [binary    ┆ [binar │\n",
       "│ data]      ┆          ┆ data]      ┆ data]   ┆   ┆            ┆ data]      ┆ data]      ┆ y      │\n",
       "│            ┆          ┆            ┆         ┆   ┆            ┆            ┆            ┆ data]  │\n",
       "│ [binary    ┆ 48.0     ┆ [binary    ┆ [binary ┆ … ┆ 1.0        ┆ [binary    ┆ [binary    ┆ [binar │\n",
       "│ data]      ┆          ┆ data]      ┆ data]   ┆   ┆            ┆ data]      ┆ data]      ┆ y      │\n",
       "│            ┆          ┆            ┆         ┆   ┆            ┆            ┆            ┆ data]  │\n",
       "│ [binary    ┆ 12.0     ┆ [binary    ┆ [binary ┆ … ┆ 2.0        ┆ [binary    ┆ [binary    ┆ [binar │\n",
       "│ data]      ┆          ┆ data]      ┆ data]   ┆   ┆            ┆ data]      ┆ data]      ┆ y      │\n",
       "│            ┆          ┆            ┆         ┆   ┆            ┆            ┆            ┆ data]  │\n",
       "│ [binary    ┆ 42.0     ┆ [binary    ┆ [binary ┆ … ┆ 2.0        ┆ [binary    ┆ [binary    ┆ [binar │\n",
       "│ data]      ┆          ┆ data]      ┆ data]   ┆   ┆            ┆ data]      ┆ data]      ┆ y      │\n",
       "│            ┆          ┆            ┆         ┆   ┆            ┆            ┆            ┆ data]  │\n",
       "│ [binary    ┆ 24.0     ┆ [binary    ┆ [binary ┆ … ┆ 2.0        ┆ [binary    ┆ [binary    ┆ [binar │\n",
       "│ data]      ┆          ┆ data]      ┆ data]   ┆   ┆            ┆ data]      ┆ data]      ┆ y      │\n",
       "│            ┆          ┆            ┆         ┆   ┆            ┆            ┆            ┆ data]  │\n",
       "└────────────┴──────────┴────────────┴─────────┴───┴────────────┴────────────┴────────────┴────────┘"
      ]
     },
     "execution_count": 6,
     "metadata": {},
     "output_type": "execute_result"
    }
   ],
   "source": [
    "arff_data.head()"
   ]
  },
  {
   "cell_type": "code",
   "execution_count": null,
   "id": "0f7dc4c8",
   "metadata": {},
   "outputs": [],
   "source": []
  }
 ],
 "metadata": {
  "kernelspec": {
   "display_name": "Python 3 (ipykernel)",
   "language": "python",
   "name": "python3"
  },
  "language_info": {
   "codemirror_mode": {
    "name": "ipython",
    "version": 3
   },
   "file_extension": ".py",
   "mimetype": "text/x-python",
   "name": "python",
   "nbconvert_exporter": "python",
   "pygments_lexer": "ipython3",
   "version": "3.11.1"
  }
 },
 "nbformat": 4,
 "nbformat_minor": 5
}
