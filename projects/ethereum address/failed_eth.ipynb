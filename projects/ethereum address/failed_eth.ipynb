{
 "cells": [
  {
   "cell_type": "code",
   "execution_count": null,
   "metadata": {},
   "outputs": [],
   "source": [
    "import time\n",
    "from datetime import date, timedelta\n",
    "from selenium import webdriver\n",
    "from selenium.webdriver import ActionChains\n",
    "from selenium.webdriver.common.by import By\n",
    "from selenium.webdriver.common.keys import Keys\n",
    "from selenium.webdriver.chrome.service import Service\n",
    "from webdriver_manager.chrome import ChromeDriverManager\n",
    "import pandas as pd"
   ]
  },
  {
   "cell_type": "code",
   "execution_count": null,
   "metadata": {},
   "outputs": [],
   "source": [
    "URL = \"https://www.team.finance/view-all-coins\""
   ]
  },
  {
   "cell_type": "code",
   "execution_count": null,
   "metadata": {},
   "outputs": [],
   "source": [
    "s = Service(ChromeDriverManager().install())\n",
    "driver = webdriver.Chrome(service=s)\n",
    "# try\n",
    "driver.maximize_window()\n",
    "driver.get(URL)\n",
    "print(\"Chrome Browser Invoked\")\n",
    "\n",
    "filter = driver.find_element(By.XPATH, \"/html/body/div[1]/main/div[2]/div[2]/div[1]/div/div/button[3]\")\n",
    "ActionChains(driver).click(filter).perform()\n",
    "print(\"Filter button clicked\")\n",
    "\n",
    "eth = driver.find_element(By.XPATH, \"/html/body/div[2]/div/div/div/div/div[2]/div[2]/div[2]/div/div[1]/input\")\n",
    "ActionChains(driver).click(eth).perform()\n",
    "print(\"Ethereum checked\")\n",
    "\n",
    "end_date = driver.find_element(By.XPATH, \"/html/body/div[2]/div/div/div/div/div[2]/div[2]/div[3]/div/div[2]/div/div/input\")\n",
    "today = date.today()\n",
    "end_date.send_keys(Keys.CONTROL+'a'+Keys.BACKSPACE)\n",
    "end_date.send_keys(f\"{today}\"+Keys.ENTER)\n",
    "print(f\"End Date entered: {today}\")\n",
    "\n",
    "start_date = driver.find_element(By.XPATH, \"/html/body/div[2]/div/div/div/div/div[2]/div[2]/div[3]/div/div[1]/div/div/input\")\n",
    "yesterday = today-timedelta(days=1)\n",
    "start_date.send_keys(Keys.CONTROL+'a'+Keys.BACKSPACE)\n",
    "start_date.send_keys(f\"{yesterday}\"+Keys.ENTER)\n",
    "print(f\"Start Date entered: {yesterday}\")\n",
    "\n",
    "apply_filter = driver.find_element(By.XPATH, \"/html/body/div[2]/div/div/div/div/div[2]/div[3]/div/button[1]\")\n",
    "ActionChains(driver).click(apply_filter).perform()\n",
    "print(\"Apply filter\")\n",
    "\n",
    "print(len(filter), len(eth), len(end_date), len(start_date), len(apply_filter))\n",
    "\n",
    "driver.quit()"
   ]
  }
 ],
 "metadata": {
  "kernelspec": {
   "display_name": "yt_scrape",
   "language": "python",
   "name": "python3"
  },
  "language_info": {
   "name": "python",
   "version": "3.9.13"
  },
  "orig_nbformat": 4
 },
 "nbformat": 4,
 "nbformat_minor": 2
}
