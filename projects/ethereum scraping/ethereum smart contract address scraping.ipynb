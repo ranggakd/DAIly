{
 "cells": [
  {
   "attachments": {},
   "cell_type": "markdown",
   "metadata": {},
   "source": [
    "[Link 1](https://medium.com/codestorm/scrape-data-from-youtube-channels-using-selenium-and-python-cb46c37e816a)\n",
    "\n",
    "[Link 2](https://chromedriver.chromium.org/home)\n",
    "\n",
    "[Mouse Click](https://www.selenium.dev/documentation/webdriver/actions_api/mouse/)\n",
    "\n",
    "[Finding exact element](https://stackoverflow.com/questions/51204668/how-to-find-element-that-has-multiple-class-in-selenium)\n",
    "\n",
    "[Datepicker Selenium Python](https://stackoverflow.com/questions/66435021/python-selenium-datepicker-select-date)\n",
    "\n",
    "[Selenium Failed Clearing Input Datepicker](https://stackoverflow.com/questions/65121244/selenium-failed-to-send-keys-on-datepicker-field-using-python)\n",
    "\n",
    "[Error Handling 1](https://simpleit.rocks/python/selenium-webdriver-exception-executable-in-path-error/)\n",
    "\n",
    "[Error Handling 2](https://stackoverflow.com/questions/71191801/selenium-common-exceptions-webdriverexception-message-chromedriver-executabl)\n",
    "\n",
    "[Error Handling 3](https://stackoverflow.com/questions/53330322/is-chrome-installation-needed-or-only-chromedriver-when-using-selenium/62449076#62449076)"
   ]
  },
  {
   "cell_type": "code",
   "execution_count": null,
   "metadata": {},
   "outputs": [],
   "source": [
    "# pip install selenium pandas webdriver-manager"
   ]
  },
  {
   "cell_type": "code",
   "execution_count": 1,
   "metadata": {},
   "outputs": [],
   "source": [
    "import time\n",
    "from datetime import date, timedelta\n",
    "from selenium import webdriver\n",
    "from selenium.webdriver import ActionChains\n",
    "from selenium.webdriver.common.by import By\n",
    "from selenium.webdriver.common.keys import Keys\n",
    "from selenium.webdriver.chrome.service import Service\n",
    "from webdriver_manager.chrome import ChromeDriverManager\n",
    "import pandas as pd"
   ]
  },
  {
   "cell_type": "code",
   "execution_count": 2,
   "metadata": {},
   "outputs": [],
   "source": [
    "URL = \"https://www.team.finance/view-all-coins\""
   ]
  },
  {
   "cell_type": "code",
   "execution_count": 7,
   "metadata": {},
   "outputs": [
    {
     "name": "stdout",
     "output_type": "stream",
     "text": [
      "Chrome Browser Invoked\n",
      "Filter button clicked\n",
      "Ethereum checked\n",
      "End Date entered: 2023-02-01\n",
      "Start Date entered: 2023-01-31\n",
      "Apply filter\n"
     ]
    }
   ],
   "source": [
    "s = Service(ChromeDriverManager().install())\n",
    "driver = webdriver.Chrome(service=s)\n",
    "# try\n",
    "driver.maximize_window()\n",
    "driver.get(URL)\n",
    "print(\"Chrome Browser Invoked\")\n",
    "\n",
    "filter = driver.find_element(By.XPATH, \"/html/body/div[1]/main/div[2]/div[2]/div[1]/div/div/button[3]\")\n",
    "ActionChains(driver).click(filter).perform()\n",
    "print(\"Filter button clicked\")\n",
    "\n",
    "eth = driver.find_element(By.XPATH, \"/html/body/div[2]/div/div/div/div/div[2]/div[2]/div[2]/div/div[1]/input\")\n",
    "ActionChains(driver).click(eth).perform()\n",
    "print(\"Ethereum checked\")\n",
    "\n",
    "end_date = driver.find_element(By.XPATH, \"/html/body/div[2]/div/div/div/div/div[2]/div[2]/div[3]/div/div[2]/div/div/input\")\n",
    "today = date.today()\n",
    "end_date.send_keys(Keys.CONTROL+'a'+Keys.BACKSPACE)\n",
    "end_date.send_keys(f\"{today}\"+Keys.ENTER)\n",
    "print(f\"End Date entered: {today}\")\n",
    "\n",
    "start_date = driver.find_element(By.XPATH, \"/html/body/div[2]/div/div/div/div/div[2]/div[2]/div[3]/div/div[1]/div/div/input\")\n",
    "yesterday = today-timedelta(days=1)\n",
    "start_date.send_keys(Keys.CONTROL+'a'+Keys.BACKSPACE)\n",
    "start_date.send_keys(f\"{yesterday}\"+Keys.ENTER)\n",
    "print(f\"Start Date entered: {yesterday}\")\n",
    "\n",
    "apply_filter = driver.find_element(By.XPATH, \"/html/body/div[2]/div/div/div/div/div[2]/div[3]/div/button[1]\")\n",
    "ActionChains(driver).click(apply_filter).perform()\n",
    "print(\"Apply filter\")\n",
    "\n",
    "# print(len(filter), len(eth), len(end_date), len(start_date), len(apply_filter))\n",
    "# catch / raise\n",
    "# finally\n",
    "# driver.quit()"
   ]
  },
  {
   "cell_type": "code",
   "execution_count": null,
   "metadata": {},
   "outputs": [],
   "source": []
  }
 ],
 "metadata": {
  "kernelspec": {
   "display_name": "Python 3.9.13 ('yt_scrape')",
   "language": "python",
   "name": "python3"
  },
  "language_info": {
   "codemirror_mode": {
    "name": "ipython",
    "version": 3
   },
   "file_extension": ".py",
   "mimetype": "text/x-python",
   "name": "python",
   "nbconvert_exporter": "python",
   "pygments_lexer": "ipython3",
   "version": "3.9.13"
  },
  "orig_nbformat": 4,
  "vscode": {
   "interpreter": {
    "hash": "188d0f256a4c53bd3e29b80cbd298c14da12f0f1a7826de72139cd3b4be0bd49"
   }
  }
 },
 "nbformat": 4,
 "nbformat_minor": 2
}
