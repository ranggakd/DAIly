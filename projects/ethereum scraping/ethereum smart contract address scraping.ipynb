{
 "cells": [
  {
   "attachments": {},
   "cell_type": "markdown",
   "metadata": {},
   "source": [
    "# 1️⃣ Introduction"
   ]
  },
  {
   "attachments": {},
   "cell_type": "markdown",
   "metadata": {},
   "source": [
    "TODO"
   ]
  },
  {
   "attachments": {},
   "cell_type": "markdown",
   "metadata": {},
   "source": [
    "## Installation"
   ]
  },
  {
   "cell_type": "code",
   "execution_count": 1,
   "metadata": {},
   "outputs": [],
   "source": [
    "try:\n",
    "    import gql\n",
    "except ImportError as e:\n",
    "    print(e)\n",
    "    %pip install gql"
   ]
  },
  {
   "attachments": {},
   "cell_type": "markdown",
   "metadata": {},
   "source": [
    "## Import libraries"
   ]
  },
  {
   "cell_type": "code",
   "execution_count": 2,
   "metadata": {},
   "outputs": [],
   "source": [
    "from gql import gql, Client\n",
    "from gql.transport.aiohttp import AIOHTTPTransport\n",
    "from datetime import datetime, timezone, timedelta"
   ]
  },
  {
   "cell_type": "code",
   "execution_count": 3,
   "metadata": {},
   "outputs": [],
   "source": [
    "URL = 'https://team-finance-backend-origdfl2wq-uc.a.run.app/graphql'\n",
    "LIMIT = 50\n",
    "HOURS = 24"
   ]
  },
  {
   "cell_type": "code",
   "execution_count": 4,
   "metadata": {},
   "outputs": [],
   "source": [
    "# Select your transport with a defined url endpoint\n",
    "transport = AIOHTTPTransport(url=URL)\n",
    "\n",
    "# Create a GraphQL client using the defined transport\n",
    "client = Client(transport=transport)\n",
    "\n",
    "# Get the current datetime and the previous 24 hours from now in UTC\n",
    "now_utc = datetime.now(timezone.utc)\n",
    "previous_1d_utc = now_utc - timedelta(hours=HOURS)\n",
    "\n",
    "# format the datetimes in ISO 8601 format with UTC offset\n",
    "upper = now_utc.strftime('%Y-%m-%dT%H:%M:%S.%f%z')\n",
    "lower = previous_1d_utc.strftime('%Y-%m-%dT%H:%M:%S.%f%z')"
   ]
  },
  {
   "cell_type": "code",
   "execution_count": 7,
   "metadata": {},
   "outputs": [
    {
     "name": "stdout",
     "output_type": "stream",
     "text": [
      "{'lockEvents': {'pageInfo': {'hasNextPage': False, 'hasPreviousPage': False}, 'nodes': [{'unlockTime': 1678363830, 'tokenAddress': '0x06cE56F2F5Fa4746F6358A33553EB1F35068CAe7', 'network': 'ethereum', 'tokenTotalSupply': '1000000000000000000000000000000', 'chainId': '0x1', 'createdAt': '2023-03-08T11:13:23.000Z', 'tokenId': '0', 'isWithdrawn': False}, {'unlockTime': 1678828540, 'tokenAddress': '0x0cf75471B0FbF76A315A75eBDa6600ab92Fdc924', 'network': 'ethereum', 'tokenTotalSupply': '650877876093724820164299182', 'chainId': '0x1', 'createdAt': '2023-03-08T21:29:59.000Z', 'tokenId': '0', 'isWithdrawn': False}, {'unlockTime': 1679433652, 'tokenAddress': '0x0cf75471B0FbF76A315A75eBDa6600ab92Fdc924', 'network': 'ethereum', 'tokenTotalSupply': '650877876093724820164299182', 'chainId': '0x1', 'createdAt': '2023-03-08T21:29:59.000Z', 'tokenId': '0', 'isWithdrawn': False}, {'unlockTime': 1679510354, 'tokenAddress': '0x120488048DF6b234fd3696FB728bC4B808fCED7f', 'network': 'ethereum', 'tokenTotalSupply': '100000000000000000000000000000', 'chainId': '0x1', 'createdAt': '2023-03-08T18:39:59.000Z', 'tokenId': '0', 'isWithdrawn': False}, {'unlockTime': 1680643406, 'tokenAddress': '0x0cf75471B0FbF76A315A75eBDa6600ab92Fdc924', 'network': 'ethereum', 'tokenTotalSupply': '650877876093724820164299182', 'chainId': '0x1', 'createdAt': '2023-03-08T23:15:11.000Z', 'tokenId': '0', 'isWithdrawn': False}, {'unlockTime': 1680877799, 'tokenAddress': '0x3a7De552F1898e50ae3e5fa6e68343746889AA11', 'network': 'ethereum', 'tokenTotalSupply': '1000000000000000000', 'chainId': '0x1', 'createdAt': '2023-03-08T14:31:35.000Z', 'tokenId': '0', 'isWithdrawn': False}, {'unlockTime': 1680883200, 'tokenAddress': '0x2Ae5ad2b5E6EA7A3198E0c04697Fe9e2bFc9D17A', 'network': 'ethereum', 'tokenTotalSupply': '1000000000000000000', 'chainId': '0x1', 'createdAt': '2023-03-09T08:39:59.000Z', 'tokenId': '0', 'isWithdrawn': False}, {'unlockTime': 1680883200, 'tokenAddress': '0x32FE7B0E539B0ceB79a0086f8b3720aA7689789C', 'network': 'ethereum', 'tokenTotalSupply': '1000000000000000000000000000', 'chainId': '0x1', 'createdAt': '2023-03-09T07:20:11.000Z', 'tokenId': '0', 'isWithdrawn': False}, {'unlockTime': 1680894418, 'tokenAddress': '0x4384b85FE228AE727B129230211194E4A50877c4', 'network': 'ethereum', 'tokenTotalSupply': '1000000000000000000000000', 'chainId': '0x1', 'createdAt': '2023-03-08T19:08:59.000Z', 'tokenId': '0', 'isWithdrawn': False}, {'unlockTime': 1680901037, 'tokenAddress': '0x9771010D5fBf9F45a8aC30B3C191D2fc63418873', 'network': 'ethereum', 'tokenTotalSupply': '1000000000000000000000000000', 'chainId': '0x1', 'createdAt': '2023-03-08T20:58:11.000Z', 'tokenId': '0', 'isWithdrawn': False}, {'unlockTime': 1681007923, 'tokenAddress': '0xb2205Ac3a699dC8Ba772c96ecA9f66631Fc4603c', 'network': 'ethereum', 'tokenTotalSupply': '1000000000000000000000000000', 'chainId': '0x1', 'createdAt': '2023-03-09T02:39:35.000Z', 'tokenId': '0', 'isWithdrawn': False}, {'unlockTime': 1682118000, 'tokenAddress': '0x5268BDCBe88Cf3c18EE19F54C38Ac6f9b9675367', 'network': 'ethereum', 'tokenTotalSupply': '100000000000000000', 'chainId': '0x1', 'createdAt': '2023-03-08T23:18:11.000Z', 'tokenId': '0', 'isWithdrawn': False}, {'unlockTime': 1682140652, 'tokenAddress': '0x8b0FcCd2fe3EFC9a6f452c9D0a0Cad6762f4225E', 'network': 'ethereum', 'tokenTotalSupply': '100000000000000000000000000', 'chainId': '0x1', 'createdAt': '2023-03-09T05:18:47.000Z', 'tokenId': '0', 'isWithdrawn': False}, {'unlockTime': 1686196378, 'tokenAddress': '0x21DDbCf30d1378B4a3C7B6c9971657ba33190B85', 'network': 'ethereum', 'tokenTotalSupply': '100000000000000000000', 'chainId': '0x1', 'createdAt': '2023-03-09T03:54:35.000Z', 'tokenId': '0', 'isWithdrawn': False}, {'unlockTime': 1693573483, 'tokenAddress': '0xC90906d45046059221e908de5Cc8fcfaCA859235', 'network': 'ethereum', 'tokenTotalSupply': '10000000000000000000000000', 'chainId': '0x1', 'createdAt': '2023-03-08T18:22:01.149Z', 'tokenId': '0', 'isWithdrawn': False}, {'unlockTime': 1703798581, 'tokenAddress': '0xf74D2Fbb83554d085c4Ff1231B228D267772ADf9', 'network': 'ethereum', 'tokenTotalSupply': '210000000000000000000000000', 'chainId': '0x1', 'createdAt': '2023-03-08T20:23:47.000Z', 'tokenId': '0', 'isWithdrawn': False}, {'unlockTime': 1735773700, 'tokenAddress': '0x0cf75471B0FbF76A315A75eBDa6600ab92Fdc924', 'network': 'ethereum', 'tokenTotalSupply': '650877876093724820164299182', 'chainId': '0x1', 'createdAt': '2023-03-08T23:23:11.000Z', 'tokenId': '0', 'isWithdrawn': False}]}}\n"
     ]
    }
   ],
   "source": [
    "query_str = \"\"\"\n",
    "    query Previous1DEth($lower: DateTime!, $upper: DateTime!, $limit: Int!) {\n",
    "      lockEvents(\n",
    "          sorting: {field: unlockTime, direction: ASC}\n",
    "          filter: {unlockTime: {gt: 0}\n",
    "            and: [\n",
    "              {chainId: {in: [\"0x1\", ]}},\n",
    "              {createdAt: {between : {lower : $lower, upper : $upper} } },\n",
    "            ]\n",
    "          }\n",
    "          paging: {limit: $limit, offset: 0}\n",
    "      ){\n",
    "          pageInfo {\n",
    "              hasNextPage\n",
    "              hasPreviousPage\n",
    "          }\n",
    "          nodes{\n",
    "            unlockTime\n",
    "            tokenAddress\n",
    "            network\n",
    "            tokenTotalSupply\n",
    "            chainId\n",
    "            createdAt\n",
    "            tokenId\n",
    "            isWithdrawn\n",
    "          }\n",
    "      }\n",
    "    }\n",
    "\"\"\"\n",
    "\n",
    "query = gql(query_str)\n",
    "variables = {\n",
    "  \"lower\": lower,\n",
    "  \"upper\": upper,\n",
    "  \"limit\": LIMIT\n",
    "}\n",
    "result = await client.execute_async(query, variable_values=variables)\n",
    "print(result)"
   ]
  },
  {
   "cell_type": "code",
   "execution_count": null,
   "metadata": {},
   "outputs": [],
   "source": [
    "# TODO\n",
    "# make a counter to check the amount it retrieved"
   ]
  },
  {
   "attachments": {},
   "cell_type": "markdown",
   "metadata": {},
   "source": [
    "[Link 1](https://medium.com/codestorm/scrape-data-from-youtube-channels-using-selenium-and-python-cb46c37e816a)\n",
    "\n",
    "[Link 2](https://chromedriver.chromium.org/home)\n",
    "\n",
    "[Mouse Click](https://www.selenium.dev/documentation/webdriver/actions_api/mouse/)\n",
    "\n",
    "[Finding exact element](https://stackoverflow.com/questions/51204668/how-to-find-element-that-has-multiple-class-in-selenium)\n",
    "\n",
    "[Datepicker Selenium Python](https://stackoverflow.com/questions/66435021/python-selenium-datepicker-select-date)\n",
    "\n",
    "[Selenium Failed Clearing Input Datepicker](https://stackoverflow.com/questions/65121244/selenium-failed-to-send-keys-on-datepicker-field-using-python)\n",
    "\n",
    "[Error Handling 1](https://simpleit.rocks/python/selenium-webdriver-exception-executable-in-path-error/)\n",
    "\n",
    "[Error Handling 2](https://stackoverflow.com/questions/71191801/selenium-common-exceptions-webdriverexception-message-chromedriver-executabl)\n",
    "\n",
    "[Error Handling 3](https://stackoverflow.com/questions/53330322/is-chrome-installation-needed-or-only-chromedriver-when-using-selenium/62449076#62449076)"
   ]
  },
  {
   "cell_type": "code",
   "execution_count": null,
   "metadata": {},
   "outputs": [],
   "source": [
    "# pip install selenium pandas webdriver-manager"
   ]
  },
  {
   "cell_type": "code",
   "execution_count": 1,
   "metadata": {},
   "outputs": [],
   "source": [
    "import time\n",
    "from datetime import date, timedelta\n",
    "from selenium import webdriver\n",
    "from selenium.webdriver import ActionChains\n",
    "from selenium.webdriver.common.by import By\n",
    "from selenium.webdriver.common.keys import Keys\n",
    "from selenium.webdriver.chrome.service import Service\n",
    "from webdriver_manager.chrome import ChromeDriverManager\n",
    "import pandas as pd"
   ]
  },
  {
   "cell_type": "code",
   "execution_count": 2,
   "metadata": {},
   "outputs": [],
   "source": [
    "URL = \"https://www.team.finance/view-all-coins\""
   ]
  },
  {
   "cell_type": "code",
   "execution_count": 7,
   "metadata": {},
   "outputs": [
    {
     "name": "stdout",
     "output_type": "stream",
     "text": [
      "Chrome Browser Invoked\n",
      "Filter button clicked\n",
      "Ethereum checked\n",
      "End Date entered: 2023-02-01\n",
      "Start Date entered: 2023-01-31\n",
      "Apply filter\n"
     ]
    }
   ],
   "source": [
    "s = Service(ChromeDriverManager().install())\n",
    "driver = webdriver.Chrome(service=s)\n",
    "# try\n",
    "driver.maximize_window()\n",
    "driver.get(URL)\n",
    "print(\"Chrome Browser Invoked\")\n",
    "\n",
    "filter = driver.find_element(By.XPATH, \"/html/body/div[1]/main/div[2]/div[2]/div[1]/div/div/button[3]\")\n",
    "ActionChains(driver).click(filter).perform()\n",
    "print(\"Filter button clicked\")\n",
    "\n",
    "eth = driver.find_element(By.XPATH, \"/html/body/div[2]/div/div/div/div/div[2]/div[2]/div[2]/div/div[1]/input\")\n",
    "ActionChains(driver).click(eth).perform()\n",
    "print(\"Ethereum checked\")\n",
    "\n",
    "end_date = driver.find_element(By.XPATH, \"/html/body/div[2]/div/div/div/div/div[2]/div[2]/div[3]/div/div[2]/div/div/input\")\n",
    "today = date.today()\n",
    "end_date.send_keys(Keys.CONTROL+'a'+Keys.BACKSPACE)\n",
    "end_date.send_keys(f\"{today}\"+Keys.ENTER)\n",
    "print(f\"End Date entered: {today}\")\n",
    "\n",
    "start_date = driver.find_element(By.XPATH, \"/html/body/div[2]/div/div/div/div/div[2]/div[2]/div[3]/div/div[1]/div/div/input\")\n",
    "yesterday = today-timedelta(days=1)\n",
    "start_date.send_keys(Keys.CONTROL+'a'+Keys.BACKSPACE)\n",
    "start_date.send_keys(f\"{yesterday}\"+Keys.ENTER)\n",
    "print(f\"Start Date entered: {yesterday}\")\n",
    "\n",
    "apply_filter = driver.find_element(By.XPATH, \"/html/body/div[2]/div/div/div/div/div[2]/div[3]/div/button[1]\")\n",
    "ActionChains(driver).click(apply_filter).perform()\n",
    "print(\"Apply filter\")\n",
    "\n",
    "# print(len(filter), len(eth), len(end_date), len(start_date), len(apply_filter))\n",
    "# catch / raise\n",
    "# finally\n",
    "# driver.quit()"
   ]
  },
  {
   "cell_type": "code",
   "execution_count": null,
   "metadata": {},
   "outputs": [],
   "source": []
  }
 ],
 "metadata": {
  "kernelspec": {
   "display_name": "Python 3.9.13 ('yt_scrape')",
   "language": "python",
   "name": "python3"
  },
  "language_info": {
   "codemirror_mode": {
    "name": "ipython",
    "version": 3
   },
   "file_extension": ".py",
   "mimetype": "text/x-python",
   "name": "python",
   "nbconvert_exporter": "python",
   "pygments_lexer": "ipython3",
   "version": "3.9.13"
  },
  "orig_nbformat": 4,
  "vscode": {
   "interpreter": {
    "hash": "188d0f256a4c53bd3e29b80cbd298c14da12f0f1a7826de72139cd3b4be0bd49"
   }
  }
 },
 "nbformat": 4,
 "nbformat_minor": 2
}
