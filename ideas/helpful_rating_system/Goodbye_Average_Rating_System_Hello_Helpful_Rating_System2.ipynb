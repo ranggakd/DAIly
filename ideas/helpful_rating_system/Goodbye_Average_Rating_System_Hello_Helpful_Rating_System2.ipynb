{
  "cells": [
    {
      "attachments": {},
      "cell_type": "markdown",
      "metadata": {
        "id": "nkZ7fNVSrNX8"
      },
      "source": [
        "<a href=\"https://colab.research.google.com/github/ranggakd/DAIly/blob/main/ideas/helpful_rating_system/Goodbye_Average_Rating_System_Hello_Helpful_Rating_System2.ipynb\" target=\"_parent\"><img src=\"https://colab.research.google.com/assets/colab-badge.svg\" alt=\"Open In Colab\"/></a>\n",
        "[![Open Medium](https://gist.githubusercontent.com/ranggakd/34926ba72fa0b0c17566b0b2a52296de/raw/90dde15647e4d3e6d292f2a95612cb3bd428dcf3/medium.svg)](https://medium.com/@ranggakd/fantastic-docs-and-where-to-find-them-27357e23429)\n",
        "\n",
        "This notebook is Google Colab compatible. More explanation available on Medium."
      ]
    },
    {
      "cell_type": "code",
      "execution_count": 1,
      "metadata": {
        "id": "lrD89xQX2QMZ"
      },
      "outputs": [],
      "source": [
        "import polars as pl"
      ]
    },
    {
      "cell_type": "code",
      "execution_count": 2,
      "metadata": {
        "id": "rAokl_7wB-RQ"
      },
      "outputs": [],
      "source": [
        "# const\n",
        "URL = 'https://raw.githubusercontent.com/ranggakd/DAIly/main/ideas/helpful_rating_system/dataset/'"
      ]
    },
    {
      "cell_type": "code",
      "execution_count": 3,
      "metadata": {
        "id": "XlmunTdr2QMb"
      },
      "outputs": [],
      "source": [
        "honest_url = f'{URL}original_review.csv'\n",
        "scam_url = f'{URL}scam_review.csv'\n",
        "honest = pl.read_csv(honest_url)\n",
        "scam = pl.read_csv(scam_url)"
      ]
    },
    {
      "cell_type": "code",
      "execution_count": 4,
      "metadata": {
        "colab": {
          "base_uri": "https://localhost:8080/",
          "height": 255
        },
        "id": "Rw-hqV1P2QMb",
        "outputId": "2a3ae74a-6d19-419c-ddf5-d0ae0aa6f82f"
      },
      "outputs": [
        {
          "data": {
            "text/html": [
              "<div><style>\n",
              ".dataframe > thead > tr > th,\n",
              ".dataframe > tbody > tr > td {\n",
              "  text-align: right;\n",
              "}\n",
              "</style>\n",
              "<small>shape: (5, 3)</small><table border=\"1\" class=\"dataframe\"><thead><tr><th>rating</th><th>helpful_feedback</th><th>is_seller_reply</th></tr><tr><td>i64</td><td>i64</td><td>bool</td></tr></thead><tbody><tr><td>5</td><td>0</td><td>true</td></tr><tr><td>4</td><td>1</td><td>true</td></tr><tr><td>5</td><td>0</td><td>true</td></tr><tr><td>4</td><td>1</td><td>true</td></tr><tr><td>5</td><td>0</td><td>true</td></tr></tbody></table></div>"
            ],
            "text/plain": [
              "shape: (5, 3)\n",
              "┌────────┬──────────────────┬─────────────────┐\n",
              "│ rating ┆ helpful_feedback ┆ is_seller_reply │\n",
              "│ ---    ┆ ---              ┆ ---             │\n",
              "│ i64    ┆ i64              ┆ bool            │\n",
              "╞════════╪══════════════════╪═════════════════╡\n",
              "│ 5      ┆ 0                ┆ true            │\n",
              "│ 4      ┆ 1                ┆ true            │\n",
              "│ 5      ┆ 0                ┆ true            │\n",
              "│ 4      ┆ 1                ┆ true            │\n",
              "│ 5      ┆ 0                ┆ true            │\n",
              "└────────┴──────────────────┴─────────────────┘"
            ]
          },
          "execution_count": 4,
          "metadata": {},
          "output_type": "execute_result"
        }
      ],
      "source": [
        "honest.head()"
      ]
    },
    {
      "cell_type": "code",
      "execution_count": 5,
      "metadata": {
        "colab": {
          "base_uri": "https://localhost:8080/",
          "height": 255
        },
        "id": "r3aaWbIY2QMc",
        "outputId": "4ed38b43-3d47-42fb-858c-b1c870d0696d"
      },
      "outputs": [
        {
          "data": {
            "text/html": [
              "<div><style>\n",
              ".dataframe > thead > tr > th,\n",
              ".dataframe > tbody > tr > td {\n",
              "  text-align: right;\n",
              "}\n",
              "</style>\n",
              "<small>shape: (5, 3)</small><table border=\"1\" class=\"dataframe\"><thead><tr><th>rating</th><th>helpful_feedback</th><th>is_seller_reply</th></tr><tr><td>i64</td><td>i64</td><td>bool</td></tr></thead><tbody><tr><td>4</td><td>21</td><td>true</td></tr><tr><td>5</td><td>2</td><td>false</td></tr><tr><td>5</td><td>3</td><td>true</td></tr><tr><td>5</td><td>4</td><td>true</td></tr><tr><td>4</td><td>0</td><td>true</td></tr></tbody></table></div>"
            ],
            "text/plain": [
              "shape: (5, 3)\n",
              "┌────────┬──────────────────┬─────────────────┐\n",
              "│ rating ┆ helpful_feedback ┆ is_seller_reply │\n",
              "│ ---    ┆ ---              ┆ ---             │\n",
              "│ i64    ┆ i64              ┆ bool            │\n",
              "╞════════╪══════════════════╪═════════════════╡\n",
              "│ 4      ┆ 21               ┆ true            │\n",
              "│ 5      ┆ 2                ┆ false           │\n",
              "│ 5      ┆ 3                ┆ true            │\n",
              "│ 5      ┆ 4                ┆ true            │\n",
              "│ 4      ┆ 0                ┆ true            │\n",
              "└────────┴──────────────────┴─────────────────┘"
            ]
          },
          "execution_count": 5,
          "metadata": {},
          "output_type": "execute_result"
        }
      ],
      "source": [
        "scam.head()"
      ]
    },
    {
      "cell_type": "code",
      "execution_count": 6,
      "metadata": {
        "colab": {
          "base_uri": "https://localhost:8080/",
          "height": 380
        },
        "id": "4X1SR9PKB-RT",
        "outputId": "a66c4ce8-b804-4062-a5aa-d355df221f64"
      },
      "outputs": [
        {
          "data": {
            "text/html": [
              "<div><style>\n",
              ".dataframe > thead > tr > th,\n",
              ".dataframe > tbody > tr > td {\n",
              "  text-align: right;\n",
              "}\n",
              "</style>\n",
              "<small>shape: (9, 2)</small><table border=\"1\" class=\"dataframe\"><thead><tr><th>statistic</th><th>value</th></tr><tr><td>str</td><td>f64</td></tr></thead><tbody><tr><td>&quot;count&quot;</td><td>239.0</td></tr><tr><td>&quot;null_count&quot;</td><td>0.0</td></tr><tr><td>&quot;mean&quot;</td><td>4.903766</td></tr><tr><td>&quot;std&quot;</td><td>0.443376</td></tr><tr><td>&quot;min&quot;</td><td>1.0</td></tr><tr><td>&quot;max&quot;</td><td>5.0</td></tr><tr><td>&quot;median&quot;</td><td>5.0</td></tr><tr><td>&quot;25%&quot;</td><td>5.0</td></tr><tr><td>&quot;75%&quot;</td><td>5.0</td></tr></tbody></table></div>"
            ],
            "text/plain": [
              "shape: (9, 2)\n",
              "┌────────────┬──────────┐\n",
              "│ statistic  ┆ value    │\n",
              "│ ---        ┆ ---      │\n",
              "│ str        ┆ f64      │\n",
              "╞════════════╪══════════╡\n",
              "│ count      ┆ 239.0    │\n",
              "│ null_count ┆ 0.0      │\n",
              "│ mean       ┆ 4.903766 │\n",
              "│ std        ┆ 0.443376 │\n",
              "│ min        ┆ 1.0      │\n",
              "│ max        ┆ 5.0      │\n",
              "│ median     ┆ 5.0      │\n",
              "│ 25%        ┆ 5.0      │\n",
              "│ 75%        ┆ 5.0      │\n",
              "└────────────┴──────────┘"
            ]
          },
          "execution_count": 6,
          "metadata": {},
          "output_type": "execute_result"
        }
      ],
      "source": [
        "honest['rating'].describe()"
      ]
    },
    {
      "cell_type": "code",
      "execution_count": 7,
      "metadata": {
        "colab": {
          "base_uri": "https://localhost:8080/",
          "height": 380
        },
        "id": "7SKXJbQHB-RV",
        "outputId": "6a940491-2f28-45bb-ecea-97c59ed88443"
      },
      "outputs": [
        {
          "data": {
            "text/html": [
              "<div><style>\n",
              ".dataframe > thead > tr > th,\n",
              ".dataframe > tbody > tr > td {\n",
              "  text-align: right;\n",
              "}\n",
              "</style>\n",
              "<small>shape: (9, 2)</small><table border=\"1\" class=\"dataframe\"><thead><tr><th>statistic</th><th>value</th></tr><tr><td>str</td><td>f64</td></tr></thead><tbody><tr><td>&quot;count&quot;</td><td>604.0</td></tr><tr><td>&quot;null_count&quot;</td><td>0.0</td></tr><tr><td>&quot;mean&quot;</td><td>4.09106</td></tr><tr><td>&quot;std&quot;</td><td>1.583493</td></tr><tr><td>&quot;min&quot;</td><td>1.0</td></tr><tr><td>&quot;max&quot;</td><td>5.0</td></tr><tr><td>&quot;median&quot;</td><td>5.0</td></tr><tr><td>&quot;25%&quot;</td><td>4.0</td></tr><tr><td>&quot;75%&quot;</td><td>5.0</td></tr></tbody></table></div>"
            ],
            "text/plain": [
              "shape: (9, 2)\n",
              "┌────────────┬──────────┐\n",
              "│ statistic  ┆ value    │\n",
              "│ ---        ┆ ---      │\n",
              "│ str        ┆ f64      │\n",
              "╞════════════╪══════════╡\n",
              "│ count      ┆ 604.0    │\n",
              "│ null_count ┆ 0.0      │\n",
              "│ mean       ┆ 4.09106  │\n",
              "│ std        ┆ 1.583493 │\n",
              "│ min        ┆ 1.0      │\n",
              "│ max        ┆ 5.0      │\n",
              "│ median     ┆ 5.0      │\n",
              "│ 25%        ┆ 4.0      │\n",
              "│ 75%        ┆ 5.0      │\n",
              "└────────────┴──────────┘"
            ]
          },
          "execution_count": 7,
          "metadata": {},
          "output_type": "execute_result"
        }
      ],
      "source": [
        "scam['rating'].describe()"
      ]
    },
    {
      "cell_type": "code",
      "execution_count": 8,
      "metadata": {
        "colab": {
          "base_uri": "https://localhost:8080/",
          "height": 380
        },
        "id": "mknYJZEW2QMd",
        "outputId": "b3418441-59b0-4f8f-83fd-2f673e4498af"
      },
      "outputs": [
        {
          "data": {
            "text/html": [
              "<div><style>\n",
              ".dataframe > thead > tr > th,\n",
              ".dataframe > tbody > tr > td {\n",
              "  text-align: right;\n",
              "}\n",
              "</style>\n",
              "<small>shape: (9, 2)</small><table border=\"1\" class=\"dataframe\"><thead><tr><th>statistic</th><th>value</th></tr><tr><td>str</td><td>f64</td></tr></thead><tbody><tr><td>&quot;count&quot;</td><td>239.0</td></tr><tr><td>&quot;null_count&quot;</td><td>0.0</td></tr><tr><td>&quot;mean&quot;</td><td>0.200837</td></tr><tr><td>&quot;std&quot;</td><td>1.178162</td></tr><tr><td>&quot;min&quot;</td><td>0.0</td></tr><tr><td>&quot;max&quot;</td><td>13.0</td></tr><tr><td>&quot;median&quot;</td><td>0.0</td></tr><tr><td>&quot;25%&quot;</td><td>0.0</td></tr><tr><td>&quot;75%&quot;</td><td>0.0</td></tr></tbody></table></div>"
            ],
            "text/plain": [
              "shape: (9, 2)\n",
              "┌────────────┬──────────┐\n",
              "│ statistic  ┆ value    │\n",
              "│ ---        ┆ ---      │\n",
              "│ str        ┆ f64      │\n",
              "╞════════════╪══════════╡\n",
              "│ count      ┆ 239.0    │\n",
              "│ null_count ┆ 0.0      │\n",
              "│ mean       ┆ 0.200837 │\n",
              "│ std        ┆ 1.178162 │\n",
              "│ min        ┆ 0.0      │\n",
              "│ max        ┆ 13.0     │\n",
              "│ median     ┆ 0.0      │\n",
              "│ 25%        ┆ 0.0      │\n",
              "│ 75%        ┆ 0.0      │\n",
              "└────────────┴──────────┘"
            ]
          },
          "execution_count": 8,
          "metadata": {},
          "output_type": "execute_result"
        }
      ],
      "source": [
        "honest['helpful_feedback'].describe()"
      ]
    },
    {
      "cell_type": "code",
      "execution_count": 9,
      "metadata": {
        "colab": {
          "base_uri": "https://localhost:8080/",
          "height": 380
        },
        "id": "_jYir3Kh2QMf",
        "outputId": "ed1b7fb2-cba7-4647-da8c-a254d592020f"
      },
      "outputs": [
        {
          "data": {
            "text/html": [
              "<div><style>\n",
              ".dataframe > thead > tr > th,\n",
              ".dataframe > tbody > tr > td {\n",
              "  text-align: right;\n",
              "}\n",
              "</style>\n",
              "<small>shape: (9, 2)</small><table border=\"1\" class=\"dataframe\"><thead><tr><th>statistic</th><th>value</th></tr><tr><td>str</td><td>f64</td></tr></thead><tbody><tr><td>&quot;count&quot;</td><td>604.0</td></tr><tr><td>&quot;null_count&quot;</td><td>0.0</td></tr><tr><td>&quot;mean&quot;</td><td>0.793046</td></tr><tr><td>&quot;std&quot;</td><td>3.019322</td></tr><tr><td>&quot;min&quot;</td><td>0.0</td></tr><tr><td>&quot;max&quot;</td><td>34.0</td></tr><tr><td>&quot;median&quot;</td><td>0.0</td></tr><tr><td>&quot;25%&quot;</td><td>0.0</td></tr><tr><td>&quot;75%&quot;</td><td>0.0</td></tr></tbody></table></div>"
            ],
            "text/plain": [
              "shape: (9, 2)\n",
              "┌────────────┬──────────┐\n",
              "│ statistic  ┆ value    │\n",
              "│ ---        ┆ ---      │\n",
              "│ str        ┆ f64      │\n",
              "╞════════════╪══════════╡\n",
              "│ count      ┆ 604.0    │\n",
              "│ null_count ┆ 0.0      │\n",
              "│ mean       ┆ 0.793046 │\n",
              "│ std        ┆ 3.019322 │\n",
              "│ min        ┆ 0.0      │\n",
              "│ max        ┆ 34.0     │\n",
              "│ median     ┆ 0.0      │\n",
              "│ 25%        ┆ 0.0      │\n",
              "│ 75%        ┆ 0.0      │\n",
              "└────────────┴──────────┘"
            ]
          },
          "execution_count": 9,
          "metadata": {},
          "output_type": "execute_result"
        }
      ],
      "source": [
        "scam['helpful_feedback'].describe()"
      ]
    },
    {
      "attachments": {},
      "cell_type": "markdown",
      "metadata": {
        "id": "cj3Nc5rFB-RW"
      },
      "source": [
        "for each people who find particular review helpful it will be count the same as the review itself"
      ]
    },
    {
      "cell_type": "code",
      "execution_count": 10,
      "metadata": {
        "colab": {
          "base_uri": "https://localhost:8080/",
          "height": 882
        },
        "id": "-JnX6he9B-RX",
        "outputId": "33f60056-ad53-4ce2-9488-d48f858abee0"
      },
      "outputs": [
        {
          "data": {
            "text/html": [
              "<div><style>\n",
              ".dataframe > thead > tr > th,\n",
              ".dataframe > tbody > tr > td {\n",
              "  text-align: right;\n",
              "}\n",
              "</style>\n",
              "<small>shape: (239, 3)</small><table border=\"1\" class=\"dataframe\"><thead><tr><th>rating</th><th>helpful_feedback</th><th>rating * (1 + helpful_feedback)</th></tr><tr><td>i64</td><td>i64</td><td>i64</td></tr></thead><tbody><tr><td>5</td><td>0</td><td>5</td></tr><tr><td>4</td><td>1</td><td>8</td></tr><tr><td>5</td><td>0</td><td>5</td></tr><tr><td>4</td><td>1</td><td>8</td></tr><tr><td>5</td><td>0</td><td>5</td></tr><tr><td>5</td><td>1</td><td>10</td></tr><tr><td>5</td><td>2</td><td>15</td></tr><tr><td>5</td><td>0</td><td>5</td></tr><tr><td>4</td><td>13</td><td>56</td></tr><tr><td>2</td><td>12</td><td>26</td></tr><tr><td>5</td><td>0</td><td>5</td></tr><tr><td>5</td><td>0</td><td>5</td></tr><tr><td>&hellip;</td><td>&hellip;</td><td>&hellip;</td></tr><tr><td>5</td><td>0</td><td>5</td></tr><tr><td>5</td><td>0</td><td>5</td></tr><tr><td>5</td><td>0</td><td>5</td></tr><tr><td>5</td><td>0</td><td>5</td></tr><tr><td>5</td><td>0</td><td>5</td></tr><tr><td>5</td><td>0</td><td>5</td></tr><tr><td>5</td><td>0</td><td>5</td></tr><tr><td>5</td><td>0</td><td>5</td></tr><tr><td>5</td><td>0</td><td>5</td></tr><tr><td>5</td><td>0</td><td>5</td></tr><tr><td>5</td><td>0</td><td>5</td></tr><tr><td>5</td><td>0</td><td>5</td></tr></tbody></table></div>"
            ],
            "text/plain": [
              "shape: (239, 3)\n",
              "┌────────┬──────────────────┬─────────────────────────────────┐\n",
              "│ rating ┆ helpful_feedback ┆ rating * (1 + helpful_feedback) │\n",
              "│ ---    ┆ ---              ┆ ---                             │\n",
              "│ i64    ┆ i64              ┆ i64                             │\n",
              "╞════════╪══════════════════╪═════════════════════════════════╡\n",
              "│ 5      ┆ 0                ┆ 5                               │\n",
              "│ 4      ┆ 1                ┆ 8                               │\n",
              "│ 5      ┆ 0                ┆ 5                               │\n",
              "│ 4      ┆ 1                ┆ 8                               │\n",
              "│ …      ┆ …                ┆ …                               │\n",
              "│ 5      ┆ 0                ┆ 5                               │\n",
              "│ 5      ┆ 0                ┆ 5                               │\n",
              "│ 5      ┆ 0                ┆ 5                               │\n",
              "│ 5      ┆ 0                ┆ 5                               │\n",
              "└────────┴──────────────────┴─────────────────────────────────┘"
            ]
          },
          "execution_count": 10,
          "metadata": {},
          "output_type": "execute_result"
        }
      ],
      "source": [
        "honest = honest.select([\n",
        "    pl.col('rating'),\n",
        "    pl.col('helpful_feedback'),\n",
        "    (pl.col('rating') * (1 + pl.col('helpful_feedback'))).alias('rating * (1 + helpful_feedback)')\n",
        "])\n",
        "honest"
      ]
    },
    {
      "cell_type": "code",
      "execution_count": 11,
      "metadata": {
        "colab": {
          "base_uri": "https://localhost:8080/",
          "height": 882
        },
        "id": "Pm1bEQxjB-RX",
        "outputId": "e0724ca5-0737-4dc6-b3ff-c2b030305015"
      },
      "outputs": [
        {
          "data": {
            "text/html": [
              "<div><style>\n",
              ".dataframe > thead > tr > th,\n",
              ".dataframe > tbody > tr > td {\n",
              "  text-align: right;\n",
              "}\n",
              "</style>\n",
              "<small>shape: (604, 3)</small><table border=\"1\" class=\"dataframe\"><thead><tr><th>rating</th><th>helpful_feedback</th><th>rating * (1 + helpful_feedback)</th></tr><tr><td>i64</td><td>i64</td><td>i64</td></tr></thead><tbody><tr><td>4</td><td>21</td><td>88</td></tr><tr><td>5</td><td>2</td><td>15</td></tr><tr><td>5</td><td>3</td><td>20</td></tr><tr><td>5</td><td>4</td><td>25</td></tr><tr><td>4</td><td>0</td><td>4</td></tr><tr><td>1</td><td>12</td><td>13</td></tr><tr><td>3</td><td>5</td><td>18</td></tr><tr><td>1</td><td>0</td><td>1</td></tr><tr><td>1</td><td>34</td><td>35</td></tr><tr><td>1</td><td>26</td><td>27</td></tr><tr><td>5</td><td>0</td><td>5</td></tr><tr><td>5</td><td>0</td><td>5</td></tr><tr><td>&hellip;</td><td>&hellip;</td><td>&hellip;</td></tr><tr><td>5</td><td>0</td><td>5</td></tr><tr><td>5</td><td>0</td><td>5</td></tr><tr><td>5</td><td>0</td><td>5</td></tr><tr><td>5</td><td>0</td><td>5</td></tr><tr><td>5</td><td>0</td><td>5</td></tr><tr><td>5</td><td>0</td><td>5</td></tr><tr><td>5</td><td>0</td><td>5</td></tr><tr><td>5</td><td>0</td><td>5</td></tr><tr><td>5</td><td>0</td><td>5</td></tr><tr><td>5</td><td>0</td><td>5</td></tr><tr><td>5</td><td>0</td><td>5</td></tr><tr><td>5</td><td>0</td><td>5</td></tr></tbody></table></div>"
            ],
            "text/plain": [
              "shape: (604, 3)\n",
              "┌────────┬──────────────────┬─────────────────────────────────┐\n",
              "│ rating ┆ helpful_feedback ┆ rating * (1 + helpful_feedback) │\n",
              "│ ---    ┆ ---              ┆ ---                             │\n",
              "│ i64    ┆ i64              ┆ i64                             │\n",
              "╞════════╪══════════════════╪═════════════════════════════════╡\n",
              "│ 4      ┆ 21               ┆ 88                              │\n",
              "│ 5      ┆ 2                ┆ 15                              │\n",
              "│ 5      ┆ 3                ┆ 20                              │\n",
              "│ 5      ┆ 4                ┆ 25                              │\n",
              "│ …      ┆ …                ┆ …                               │\n",
              "│ 5      ┆ 0                ┆ 5                               │\n",
              "│ 5      ┆ 0                ┆ 5                               │\n",
              "│ 5      ┆ 0                ┆ 5                               │\n",
              "│ 5      ┆ 0                ┆ 5                               │\n",
              "└────────┴──────────────────┴─────────────────────────────────┘"
            ]
          },
          "execution_count": 11,
          "metadata": {},
          "output_type": "execute_result"
        }
      ],
      "source": [
        "scam = scam.select([\n",
        "    pl.col('rating'),\n",
        "    pl.col('helpful_feedback'),\n",
        "    (pl.col('rating') * (1 + pl.col('helpful_feedback'))).alias('rating * (1 + helpful_feedback)')\n",
        "])\n",
        "scam"
      ]
    },
    {
      "attachments": {},
      "cell_type": "markdown",
      "metadata": {
        "id": "c7Txw0OUB-RX"
      },
      "source": [
        "in this time scammers can mobilize people to make higher rates therefore make their average rating tends to be high as the honest or official ones"
      ]
    },
    {
      "cell_type": "code",
      "execution_count": 12,
      "metadata": {
        "colab": {
          "base_uri": "https://localhost:8080/"
        },
        "id": "P62YyNYuB-RX",
        "outputId": "430fd0b2-1da8-4b35-e700-e274de2b3c15"
      },
      "outputs": [
        {
          "data": {
            "text/plain": [
              "4.903765690376569"
            ]
          },
          "execution_count": 12,
          "metadata": {},
          "output_type": "execute_result"
        }
      ],
      "source": [
        "avg_honest_rating = honest['rating'].mean()\n",
        "avg_honest_rating"
      ]
    },
    {
      "cell_type": "code",
      "execution_count": 13,
      "metadata": {
        "colab": {
          "base_uri": "https://localhost:8080/"
        },
        "id": "cYog5vRPB-RY",
        "outputId": "7a6ae1a0-c19a-46dc-e549-2509b03a75d4"
      },
      "outputs": [
        {
          "data": {
            "text/plain": [
              "4.091059602649007"
            ]
          },
          "execution_count": 13,
          "metadata": {},
          "output_type": "execute_result"
        }
      ],
      "source": [
        "avg_scam_rating = scam['rating'].mean()\n",
        "avg_scam_rating"
      ]
    },
    {
      "attachments": {},
      "cell_type": "markdown",
      "metadata": {
        "id": "ydBbnuP7B-RY"
      },
      "source": [
        "but if we introduce this new helpful rating system only to the users (the merchant cannot see it so it would add another layer and effort to manipulate it), we could see that honest store tends to have higher score than the scam one"
      ]
    },
    {
      "cell_type": "code",
      "execution_count": 14,
      "metadata": {
        "colab": {
          "base_uri": "https://localhost:8080/"
        },
        "id": "O72C-KLxB-RY",
        "outputId": "eb8e013e-deae-4430-aa5a-a0656269ddff"
      },
      "outputs": [
        {
          "data": {
            "text/plain": [
              "4.7317073170731705"
            ]
          },
          "execution_count": 14,
          "metadata": {},
          "output_type": "execute_result"
        }
      ],
      "source": [
        "avg_honest_helpful_rating = honest['rating * (1 + helpful_feedback)'].sum()/(\n",
        "    len(honest['rating']) + honest['helpful_feedback'].sum()\n",
        ")\n",
        "avg_honest_helpful_rating"
      ]
    },
    {
      "cell_type": "code",
      "execution_count": 15,
      "metadata": {
        "colab": {
          "base_uri": "https://localhost:8080/"
        },
        "id": "aL9lpiM1B-RY",
        "outputId": "bdc56b23-5599-4b3c-ad43-6b67d307e3af"
      },
      "outputs": [
        {
          "data": {
            "text/plain": [
              "2.9344413665743305"
            ]
          },
          "execution_count": 15,
          "metadata": {},
          "output_type": "execute_result"
        }
      ],
      "source": [
        "avg_scam_helpful_rating = scam['rating * (1 + helpful_feedback)'].sum()/(\n",
        "    len(scam['rating']) + scam['helpful_feedback'].sum()\n",
        ")\n",
        "avg_scam_helpful_rating"
      ]
    },
    {
      "attachments": {},
      "cell_type": "markdown",
      "metadata": {
        "id": "ZinzqwpuB-RY"
      },
      "source": [
        "take inspiration from F1-score when 2 components are important one to another (precision and recall), we could formulate those averages like these:"
      ]
    },
    {
      "cell_type": "code",
      "execution_count": 16,
      "metadata": {
        "colab": {
          "base_uri": "https://localhost:8080/"
        },
        "id": "8ctbc1FrB-RY",
        "outputId": "aed1021a-7f09-46f8-ba0f-fb371ef89ecb"
      },
      "outputs": [
        {
          "data": {
            "text/plain": [
              "4.816200300790103"
            ]
          },
          "execution_count": 16,
          "metadata": {},
          "output_type": "execute_result"
        }
      ],
      "source": [
        "honest_f1_score_like = 2 * avg_honest_rating * avg_honest_helpful_rating / (\n",
        "    avg_honest_rating + avg_honest_helpful_rating\n",
        ")\n",
        "honest_f1_score_like"
      ]
    },
    {
      "cell_type": "code",
      "execution_count": 17,
      "metadata": {
        "colab": {
          "base_uri": "https://localhost:8080/"
        },
        "id": "VRzO6d11B-RZ",
        "outputId": "2a3b1189-5646-4a8f-e2fc-6731f63abdfe"
      },
      "outputs": [
        {
          "data": {
            "text/plain": [
              "3.4175426304044842"
            ]
          },
          "execution_count": 17,
          "metadata": {},
          "output_type": "execute_result"
        }
      ],
      "source": [
        "scam_f1_score_like = 2 * avg_scam_rating * avg_scam_helpful_rating / (\n",
        "    avg_scam_rating + avg_scam_helpful_rating\n",
        ")\n",
        "scam_f1_score_like"
      ]
    }
  ],
  "metadata": {
    "colab": {
      "include_colab_link": true,
      "name": "Rating System is not Credible Anymore So I Propose a New One.ipynb",
      "provenance": []
    },
    "interpreter": {
      "hash": "732cd94673d986d220adae7452ff7524288dc2070ef612176e41709e5436443d"
    },
    "kernelspec": {
      "display_name": "Python 3.9.7 64-bit (windows store)",
      "name": "python3"
    },
    "language_info": {
      "codemirror_mode": {
        "name": "ipython",
        "version": 3
      },
      "file_extension": ".py",
      "mimetype": "text/x-python",
      "name": "python",
      "nbconvert_exporter": "python",
      "pygments_lexer": "ipython3",
      "version": "3.11.1"
    },
    "orig_nbformat": 4
  },
  "nbformat": 4,
  "nbformat_minor": 0
}
