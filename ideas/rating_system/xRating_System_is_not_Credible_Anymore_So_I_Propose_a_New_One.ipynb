{
  "cells": [
    {
      "attachments": {},
      "cell_type": "markdown",
      "metadata": {
        "id": "nkZ7fNVSrNX8"
      },
      "source": [
        "<a href=\"https://colab.research.google.com/github/ranggakd/AIly/blob/main/projects/Rating_System_is_not_Credible_Anymore_So_I_Propose_a_New_One.ipynb\" target=\"_parent\"><img src=\"https://colab.research.google.com/assets/colab-badge.svg\" alt=\"Open In Colab\"/></a>\n",
        "[![Open Medium](https://gist.githubusercontent.com/ranggakd/34926ba72fa0b0c17566b0b2a52296de/raw/90dde15647e4d3e6d292f2a95612cb3bd428dcf3/medium.svg)](https://medium.com/@ranggakd/fantastic-docs-and-where-to-find-them-27357e23429)\n",
        "\n",
        "This notebook is Google Colab compatible. More explanation available on Medium."
      ]
    },
    {
      "cell_type": "code",
      "execution_count": 1,
      "metadata": {
        "id": "lrD89xQX2QMZ"
      },
      "outputs": [],
      "source": [
        "import polars as pl"
      ]
    },
    {
      "cell_type": "code",
      "execution_count": 2,
      "metadata": {
        "id": "XlmunTdr2QMb"
      },
      "outputs": [],
      "source": [
        "honest_url = 'https://raw.githubusercontent.com/ranggakd/DAIly/main/ideas/rating_system/dataset/original_review.csv'\n",
        "scam_url = 'https://raw.githubusercontent.com/ranggakd/DAIly/main/ideas/rating_system/dataset/scam_review.csv'\n",
        "honest = pl.read_csv(honest_url)\n",
        "scam = pl.read_csv(scam_url)"
      ]
    },
    {
      "cell_type": "code",
      "execution_count": 3,
      "metadata": {
        "colab": {
          "base_uri": "https://localhost:8080/",
          "height": 206
        },
        "id": "Rw-hqV1P2QMb",
        "outputId": "32d347ba-ed44-4103-eb77-15e9ab6143bb"
      },
      "outputs": [
        {
          "data": {
            "text/html": [
              "<div><style>\n",
              ".dataframe > thead > tr > th,\n",
              ".dataframe > tbody > tr > td {\n",
              "  text-align: right;\n",
              "}\n",
              "</style>\n",
              "<small>shape: (5, 3)</small><table border=\"1\" class=\"dataframe\"><thead><tr><th>rating</th><th>helpful_feedback</th><th>is_seller_reply</th></tr><tr><td>i64</td><td>i64</td><td>bool</td></tr></thead><tbody><tr><td>5</td><td>0</td><td>true</td></tr><tr><td>4</td><td>1</td><td>true</td></tr><tr><td>5</td><td>0</td><td>true</td></tr><tr><td>4</td><td>1</td><td>true</td></tr><tr><td>5</td><td>0</td><td>true</td></tr></tbody></table></div>"
            ],
            "text/plain": [
              "shape: (5, 3)\n",
              "┌────────┬──────────────────┬─────────────────┐\n",
              "│ rating ┆ helpful_feedback ┆ is_seller_reply │\n",
              "│ ---    ┆ ---              ┆ ---             │\n",
              "│ i64    ┆ i64              ┆ bool            │\n",
              "╞════════╪══════════════════╪═════════════════╡\n",
              "│ 5      ┆ 0                ┆ true            │\n",
              "│ 4      ┆ 1                ┆ true            │\n",
              "│ 5      ┆ 0                ┆ true            │\n",
              "│ 4      ┆ 1                ┆ true            │\n",
              "│ 5      ┆ 0                ┆ true            │\n",
              "└────────┴──────────────────┴─────────────────┘"
            ]
          },
          "execution_count": 3,
          "metadata": {},
          "output_type": "execute_result"
        }
      ],
      "source": [
        "honest.head()"
      ]
    },
    {
      "cell_type": "code",
      "execution_count": 4,
      "metadata": {
        "colab": {
          "base_uri": "https://localhost:8080/",
          "height": 206
        },
        "id": "r3aaWbIY2QMc",
        "outputId": "ec6393ce-043b-4b88-cb0b-0694fd0a5f01"
      },
      "outputs": [
        {
          "data": {
            "text/html": [
              "<div><style>\n",
              ".dataframe > thead > tr > th,\n",
              ".dataframe > tbody > tr > td {\n",
              "  text-align: right;\n",
              "}\n",
              "</style>\n",
              "<small>shape: (5, 3)</small><table border=\"1\" class=\"dataframe\"><thead><tr><th>rating</th><th>helpful_feedback</th><th>is_seller_reply</th></tr><tr><td>i64</td><td>i64</td><td>bool</td></tr></thead><tbody><tr><td>4</td><td>21</td><td>true</td></tr><tr><td>5</td><td>2</td><td>false</td></tr><tr><td>5</td><td>3</td><td>true</td></tr><tr><td>5</td><td>4</td><td>true</td></tr><tr><td>4</td><td>0</td><td>true</td></tr></tbody></table></div>"
            ],
            "text/plain": [
              "shape: (5, 3)\n",
              "┌────────┬──────────────────┬─────────────────┐\n",
              "│ rating ┆ helpful_feedback ┆ is_seller_reply │\n",
              "│ ---    ┆ ---              ┆ ---             │\n",
              "│ i64    ┆ i64              ┆ bool            │\n",
              "╞════════╪══════════════════╪═════════════════╡\n",
              "│ 4      ┆ 21               ┆ true            │\n",
              "│ 5      ┆ 2                ┆ false           │\n",
              "│ 5      ┆ 3                ┆ true            │\n",
              "│ 5      ┆ 4                ┆ true            │\n",
              "│ 4      ┆ 0                ┆ true            │\n",
              "└────────┴──────────────────┴─────────────────┘"
            ]
          },
          "execution_count": 4,
          "metadata": {},
          "output_type": "execute_result"
        }
      ],
      "source": [
        "scam.head()"
      ]
    },
    {
      "cell_type": "code",
      "execution_count": 5,
      "metadata": {
        "colab": {
          "base_uri": "https://localhost:8080/"
        },
        "id": "mknYJZEW2QMd",
        "outputId": "3e681b64-a0bd-4d30-f994-403ed62e3816"
      },
      "outputs": [
        {
          "data": {
            "text/html": [
              "<div><style>\n",
              ".dataframe > thead > tr > th,\n",
              ".dataframe > tbody > tr > td {\n",
              "  text-align: right;\n",
              "}\n",
              "</style>\n",
              "<small>shape: (9, 2)</small><table border=\"1\" class=\"dataframe\"><thead><tr><th>statistic</th><th>value</th></tr><tr><td>str</td><td>f64</td></tr></thead><tbody><tr><td>&quot;count&quot;</td><td>239.0</td></tr><tr><td>&quot;null_count&quot;</td><td>0.0</td></tr><tr><td>&quot;mean&quot;</td><td>0.200837</td></tr><tr><td>&quot;std&quot;</td><td>1.178162</td></tr><tr><td>&quot;min&quot;</td><td>0.0</td></tr><tr><td>&quot;max&quot;</td><td>13.0</td></tr><tr><td>&quot;median&quot;</td><td>0.0</td></tr><tr><td>&quot;25%&quot;</td><td>0.0</td></tr><tr><td>&quot;75%&quot;</td><td>0.0</td></tr></tbody></table></div>"
            ],
            "text/plain": [
              "shape: (9, 2)\n",
              "┌────────────┬──────────┐\n",
              "│ statistic  ┆ value    │\n",
              "│ ---        ┆ ---      │\n",
              "│ str        ┆ f64      │\n",
              "╞════════════╪══════════╡\n",
              "│ count      ┆ 239.0    │\n",
              "│ null_count ┆ 0.0      │\n",
              "│ mean       ┆ 0.200837 │\n",
              "│ std        ┆ 1.178162 │\n",
              "│ min        ┆ 0.0      │\n",
              "│ max        ┆ 13.0     │\n",
              "│ median     ┆ 0.0      │\n",
              "│ 25%        ┆ 0.0      │\n",
              "│ 75%        ┆ 0.0      │\n",
              "└────────────┴──────────┘"
            ]
          },
          "execution_count": 5,
          "metadata": {},
          "output_type": "execute_result"
        }
      ],
      "source": [
        "honest['helpful_feedback'].describe()"
      ]
    },
    {
      "cell_type": "code",
      "execution_count": 6,
      "metadata": {
        "colab": {
          "base_uri": "https://localhost:8080/",
          "height": 206
        },
        "id": "wiyJ7rH62QMe",
        "outputId": "925a2f81-0bf3-4a2d-e7b1-b4ddc9f2fd81"
      },
      "outputs": [
        {
          "data": {
            "text/html": [
              "<div><style>\n",
              ".dataframe > thead > tr > th,\n",
              ".dataframe > tbody > tr > td {\n",
              "  text-align: right;\n",
              "}\n",
              "</style>\n",
              "<small>shape: (5, 3)</small><table border=\"1\" class=\"dataframe\"><thead><tr><th>rating</th><th>helpful_feedback</th><th>is_seller_reply</th></tr><tr><td>bool</td><td>bool</td><td>bool</td></tr></thead><tbody><tr><td>true</td><td>false</td><td>true</td></tr><tr><td>true</td><td>true</td><td>true</td></tr><tr><td>true</td><td>false</td><td>true</td></tr><tr><td>true</td><td>true</td><td>true</td></tr><tr><td>true</td><td>false</td><td>true</td></tr></tbody></table></div>"
            ],
            "text/plain": [
              "shape: (5, 3)\n",
              "┌────────┬──────────────────┬─────────────────┐\n",
              "│ rating ┆ helpful_feedback ┆ is_seller_reply │\n",
              "│ ---    ┆ ---              ┆ ---             │\n",
              "│ bool   ┆ bool             ┆ bool            │\n",
              "╞════════╪══════════════════╪═════════════════╡\n",
              "│ true   ┆ false            ┆ true            │\n",
              "│ true   ┆ true             ┆ true            │\n",
              "│ true   ┆ false            ┆ true            │\n",
              "│ true   ┆ true             ┆ true            │\n",
              "│ true   ┆ false            ┆ true            │\n",
              "└────────┴──────────────────┴─────────────────┘"
            ]
          },
          "execution_count": 6,
          "metadata": {},
          "output_type": "execute_result"
        }
      ],
      "source": [
        "honest = honest.with_columns([\n",
        "    pl.when(honest[\"rating\"] < 3).then(False)\n",
        "        .otherwise(True)\n",
        "        .alias(\"rating\"),\n",
        "    pl.when(honest[\"helpful_feedback\"] < 1).then(False)\n",
        "        .otherwise(True)\n",
        "        .alias(\"helpful_feedback\")\n",
        "])\n",
        "\n",
        "honest.head()"
      ]
    },
    {
      "cell_type": "code",
      "execution_count": 7,
      "metadata": {
        "colab": {
          "base_uri": "https://localhost:8080/"
        },
        "id": "_jYir3Kh2QMf",
        "outputId": "b918e1b4-4730-409e-b475-c26b456e43da"
      },
      "outputs": [
        {
          "data": {
            "text/html": [
              "<div><style>\n",
              ".dataframe > thead > tr > th,\n",
              ".dataframe > tbody > tr > td {\n",
              "  text-align: right;\n",
              "}\n",
              "</style>\n",
              "<small>shape: (9, 2)</small><table border=\"1\" class=\"dataframe\"><thead><tr><th>statistic</th><th>value</th></tr><tr><td>str</td><td>f64</td></tr></thead><tbody><tr><td>&quot;count&quot;</td><td>604.0</td></tr><tr><td>&quot;null_count&quot;</td><td>0.0</td></tr><tr><td>&quot;mean&quot;</td><td>0.793046</td></tr><tr><td>&quot;std&quot;</td><td>3.019322</td></tr><tr><td>&quot;min&quot;</td><td>0.0</td></tr><tr><td>&quot;max&quot;</td><td>34.0</td></tr><tr><td>&quot;median&quot;</td><td>0.0</td></tr><tr><td>&quot;25%&quot;</td><td>0.0</td></tr><tr><td>&quot;75%&quot;</td><td>0.0</td></tr></tbody></table></div>"
            ],
            "text/plain": [
              "shape: (9, 2)\n",
              "┌────────────┬──────────┐\n",
              "│ statistic  ┆ value    │\n",
              "│ ---        ┆ ---      │\n",
              "│ str        ┆ f64      │\n",
              "╞════════════╪══════════╡\n",
              "│ count      ┆ 604.0    │\n",
              "│ null_count ┆ 0.0      │\n",
              "│ mean       ┆ 0.793046 │\n",
              "│ std        ┆ 3.019322 │\n",
              "│ min        ┆ 0.0      │\n",
              "│ max        ┆ 34.0     │\n",
              "│ median     ┆ 0.0      │\n",
              "│ 25%        ┆ 0.0      │\n",
              "│ 75%        ┆ 0.0      │\n",
              "└────────────┴──────────┘"
            ]
          },
          "execution_count": 7,
          "metadata": {},
          "output_type": "execute_result"
        }
      ],
      "source": [
        "scam['helpful_feedback'].describe()"
      ]
    },
    {
      "cell_type": "code",
      "execution_count": 8,
      "metadata": {
        "colab": {
          "base_uri": "https://localhost:8080/",
          "height": 206
        },
        "id": "7x3tDSJC2QMf",
        "outputId": "9512f6c5-f0b3-4a18-f0e1-fdd9546f1e54"
      },
      "outputs": [
        {
          "data": {
            "text/html": [
              "<div><style>\n",
              ".dataframe > thead > tr > th,\n",
              ".dataframe > tbody > tr > td {\n",
              "  text-align: right;\n",
              "}\n",
              "</style>\n",
              "<small>shape: (5, 3)</small><table border=\"1\" class=\"dataframe\"><thead><tr><th>rating</th><th>helpful_feedback</th><th>is_seller_reply</th></tr><tr><td>bool</td><td>bool</td><td>bool</td></tr></thead><tbody><tr><td>true</td><td>true</td><td>true</td></tr><tr><td>true</td><td>true</td><td>false</td></tr><tr><td>true</td><td>true</td><td>true</td></tr><tr><td>true</td><td>true</td><td>true</td></tr><tr><td>true</td><td>false</td><td>true</td></tr></tbody></table></div>"
            ],
            "text/plain": [
              "shape: (5, 3)\n",
              "┌────────┬──────────────────┬─────────────────┐\n",
              "│ rating ┆ helpful_feedback ┆ is_seller_reply │\n",
              "│ ---    ┆ ---              ┆ ---             │\n",
              "│ bool   ┆ bool             ┆ bool            │\n",
              "╞════════╪══════════════════╪═════════════════╡\n",
              "│ true   ┆ true             ┆ true            │\n",
              "│ true   ┆ true             ┆ false           │\n",
              "│ true   ┆ true             ┆ true            │\n",
              "│ true   ┆ true             ┆ true            │\n",
              "│ true   ┆ false            ┆ true            │\n",
              "└────────┴──────────────────┴─────────────────┘"
            ]
          },
          "execution_count": 8,
          "metadata": {},
          "output_type": "execute_result"
        }
      ],
      "source": [
        "scam = scam.with_columns([\n",
        "    pl.when(scam[\"rating\"] < 3).then(False)\n",
        "        .otherwise(True)\n",
        "        .alias(\"rating\"),\n",
        "    pl.when(scam[\"helpful_feedback\"] < 1).then(False)\n",
        "        .otherwise(True)\n",
        "        .alias(\"helpful_feedback\")\n",
        "])\n",
        "\n",
        "scam.head()"
      ]
    },
    {
      "cell_type": "code",
      "execution_count": 9,
      "metadata": {
        "id": "J4y3wOtQ2QMg"
      },
      "outputs": [],
      "source": [
        "col = ['helpful_feedback', 'is_seller_reply', 'rating']\n",
        "honest = honest.select(col)\n",
        "scam = scam.select(col)"
      ]
    },
    {
      "cell_type": "code",
      "execution_count": 10,
      "metadata": {
        "colab": {
          "base_uri": "https://localhost:8080/",
          "height": 206
        },
        "id": "FEuT-CrZ2QMg",
        "outputId": "b5b7bbc6-bb73-4fdf-f79c-db83f138db2b"
      },
      "outputs": [
        {
          "data": {
            "text/html": [
              "<div><style>\n",
              ".dataframe > thead > tr > th,\n",
              ".dataframe > tbody > tr > td {\n",
              "  text-align: right;\n",
              "}\n",
              "</style>\n",
              "<small>shape: (5, 3)</small><table border=\"1\" class=\"dataframe\"><thead><tr><th>helpful_feedback</th><th>is_seller_reply</th><th>rating</th></tr><tr><td>bool</td><td>bool</td><td>bool</td></tr></thead><tbody><tr><td>false</td><td>true</td><td>true</td></tr><tr><td>true</td><td>true</td><td>true</td></tr><tr><td>false</td><td>true</td><td>true</td></tr><tr><td>true</td><td>true</td><td>true</td></tr><tr><td>false</td><td>true</td><td>true</td></tr></tbody></table></div>"
            ],
            "text/plain": [
              "shape: (5, 3)\n",
              "┌──────────────────┬─────────────────┬────────┐\n",
              "│ helpful_feedback ┆ is_seller_reply ┆ rating │\n",
              "│ ---              ┆ ---             ┆ ---    │\n",
              "│ bool             ┆ bool            ┆ bool   │\n",
              "╞══════════════════╪═════════════════╪════════╡\n",
              "│ false            ┆ true            ┆ true   │\n",
              "│ true             ┆ true            ┆ true   │\n",
              "│ false            ┆ true            ┆ true   │\n",
              "│ true             ┆ true            ┆ true   │\n",
              "│ false            ┆ true            ┆ true   │\n",
              "└──────────────────┴─────────────────┴────────┘"
            ]
          },
          "execution_count": 10,
          "metadata": {},
          "output_type": "execute_result"
        }
      ],
      "source": [
        "honest.head()"
      ]
    },
    {
      "cell_type": "code",
      "execution_count": 11,
      "metadata": {
        "colab": {
          "base_uri": "https://localhost:8080/",
          "height": 206
        },
        "id": "Uyu66trA2QMh",
        "outputId": "61b3c22e-b755-472f-97b9-92263d953f80"
      },
      "outputs": [
        {
          "data": {
            "text/html": [
              "<div><style>\n",
              ".dataframe > thead > tr > th,\n",
              ".dataframe > tbody > tr > td {\n",
              "  text-align: right;\n",
              "}\n",
              "</style>\n",
              "<small>shape: (5, 3)</small><table border=\"1\" class=\"dataframe\"><thead><tr><th>helpful_feedback</th><th>is_seller_reply</th><th>rating</th></tr><tr><td>bool</td><td>bool</td><td>bool</td></tr></thead><tbody><tr><td>true</td><td>true</td><td>true</td></tr><tr><td>true</td><td>false</td><td>true</td></tr><tr><td>true</td><td>true</td><td>true</td></tr><tr><td>true</td><td>true</td><td>true</td></tr><tr><td>false</td><td>true</td><td>true</td></tr></tbody></table></div>"
            ],
            "text/plain": [
              "shape: (5, 3)\n",
              "┌──────────────────┬─────────────────┬────────┐\n",
              "│ helpful_feedback ┆ is_seller_reply ┆ rating │\n",
              "│ ---              ┆ ---             ┆ ---    │\n",
              "│ bool             ┆ bool            ┆ bool   │\n",
              "╞══════════════════╪═════════════════╪════════╡\n",
              "│ true             ┆ true            ┆ true   │\n",
              "│ true             ┆ false           ┆ true   │\n",
              "│ true             ┆ true            ┆ true   │\n",
              "│ true             ┆ true            ┆ true   │\n",
              "│ false            ┆ true            ┆ true   │\n",
              "└──────────────────┴─────────────────┴────────┘"
            ]
          },
          "execution_count": 11,
          "metadata": {},
          "output_type": "execute_result"
        }
      ],
      "source": [
        "scam.head()"
      ]
    },
    {
      "cell_type": "code",
      "execution_count": null,
      "metadata": {},
      "outputs": [],
      "source": [
        "def get_cases(row):\n",
        "    return int(f'{int(row[col[0]])}{int(row[col[1]])}{int(row[col[2]])}', base=2)"
      ]
    },
    {
      "cell_type": "code",
      "execution_count": 12,
      "metadata": {},
      "outputs": [
        {
          "data": {
            "text/html": [
              "<div><style>\n",
              ".dataframe > thead > tr > th,\n",
              ".dataframe > tbody > tr > td {\n",
              "  text-align: right;\n",
              "}\n",
              "</style>\n",
              "<small>shape: (4, 2)</small><table border=\"1\" class=\"dataframe\"><thead><tr><th>case</th><th>count</th></tr><tr><td>i32</td><td>u32</td></tr></thead><tbody><tr><td>2</td><td>2</td></tr><tr><td>3</td><td>214</td></tr><tr><td>6</td><td>1</td></tr><tr><td>7</td><td>22</td></tr></tbody></table></div>"
            ],
            "text/plain": [
              "shape: (4, 2)\n",
              "┌──────┬───────┐\n",
              "│ case ┆ count │\n",
              "│ ---  ┆ ---   │\n",
              "│ i32  ┆ u32   │\n",
              "╞══════╪═══════╡\n",
              "│ 2    ┆ 2     │\n",
              "│ 3    ┆ 214   │\n",
              "│ 6    ┆ 1     │\n",
              "│ 7    ┆ 22    │\n",
              "└──────┴───────┘"
            ]
          },
          "execution_count": 12,
          "metadata": {},
          "output_type": "execute_result"
        }
      ],
      "source": [
        "honest = honest.with_columns([\n",
        "    pl.struct(col)\n",
        "    .apply(get_cases, return_dtype=pl.Int32)\n",
        "    .alias(\"case\")])\n",
        "honest.groupby(\"case\")\\\n",
        "    .agg(pl.count())\\\n",
        "    .sort(\"case\")"
      ]
    },
    {
      "cell_type": "code",
      "execution_count": 13,
      "metadata": {},
      "outputs": [
        {
          "data": {
            "text/html": [
              "<div><style>\n",
              ".dataframe > thead > tr > th,\n",
              ".dataframe > tbody > tr > td {\n",
              "  text-align: right;\n",
              "}\n",
              "</style>\n",
              "<small>shape: (239, 4)</small><table border=\"1\" class=\"dataframe\"><thead><tr><th>helpful_feedback</th><th>is_seller_reply</th><th>rating</th><th>case</th></tr><tr><td>bool</td><td>bool</td><td>bool</td><td>i32</td></tr></thead><tbody><tr><td>false</td><td>true</td><td>true</td><td>3</td></tr><tr><td>true</td><td>true</td><td>true</td><td>7</td></tr><tr><td>false</td><td>true</td><td>true</td><td>3</td></tr><tr><td>true</td><td>true</td><td>true</td><td>7</td></tr><tr><td>false</td><td>true</td><td>true</td><td>3</td></tr><tr><td>true</td><td>true</td><td>true</td><td>7</td></tr><tr><td>true</td><td>true</td><td>true</td><td>7</td></tr><tr><td>false</td><td>true</td><td>true</td><td>3</td></tr><tr><td>true</td><td>true</td><td>true</td><td>7</td></tr><tr><td>true</td><td>true</td><td>false</td><td>6</td></tr><tr><td>false</td><td>true</td><td>true</td><td>3</td></tr><tr><td>false</td><td>true</td><td>true</td><td>3</td></tr><tr><td>&hellip;</td><td>&hellip;</td><td>&hellip;</td><td>&hellip;</td></tr><tr><td>false</td><td>true</td><td>true</td><td>3</td></tr><tr><td>false</td><td>true</td><td>true</td><td>3</td></tr><tr><td>false</td><td>true</td><td>true</td><td>3</td></tr><tr><td>false</td><td>true</td><td>true</td><td>3</td></tr><tr><td>false</td><td>true</td><td>true</td><td>3</td></tr><tr><td>false</td><td>true</td><td>true</td><td>3</td></tr><tr><td>false</td><td>true</td><td>true</td><td>3</td></tr><tr><td>false</td><td>true</td><td>true</td><td>3</td></tr><tr><td>false</td><td>true</td><td>true</td><td>3</td></tr><tr><td>false</td><td>true</td><td>true</td><td>3</td></tr><tr><td>false</td><td>true</td><td>true</td><td>3</td></tr><tr><td>false</td><td>true</td><td>true</td><td>3</td></tr></tbody></table></div>"
            ],
            "text/plain": [
              "shape: (239, 4)\n",
              "┌──────────────────┬─────────────────┬────────┬──────┐\n",
              "│ helpful_feedback ┆ is_seller_reply ┆ rating ┆ case │\n",
              "│ ---              ┆ ---             ┆ ---    ┆ ---  │\n",
              "│ bool             ┆ bool            ┆ bool   ┆ i32  │\n",
              "╞══════════════════╪═════════════════╪════════╪══════╡\n",
              "│ false            ┆ true            ┆ true   ┆ 3    │\n",
              "│ true             ┆ true            ┆ true   ┆ 7    │\n",
              "│ false            ┆ true            ┆ true   ┆ 3    │\n",
              "│ true             ┆ true            ┆ true   ┆ 7    │\n",
              "│ …                ┆ …               ┆ …      ┆ …    │\n",
              "│ false            ┆ true            ┆ true   ┆ 3    │\n",
              "│ false            ┆ true            ┆ true   ┆ 3    │\n",
              "│ false            ┆ true            ┆ true   ┆ 3    │\n",
              "│ false            ┆ true            ┆ true   ┆ 3    │\n",
              "└──────────────────┴─────────────────┴────────┴──────┘"
            ]
          },
          "execution_count": 13,
          "metadata": {},
          "output_type": "execute_result"
        }
      ],
      "source": [
        "honest"
      ]
    },
    {
      "cell_type": "code",
      "execution_count": 14,
      "metadata": {
        "colab": {
          "base_uri": "https://localhost:8080/"
        },
        "id": "ztTTJNwh2QMh",
        "outputId": "de173a6a-96fb-4e8b-ab5c-bf8fa4bb1e76"
      },
      "outputs": [
        {
          "data": {
            "text/html": [
              "<div><style>\n",
              ".dataframe > thead > tr > th,\n",
              ".dataframe > tbody > tr > td {\n",
              "  text-align: right;\n",
              "}\n",
              "</style>\n",
              "<small>shape: (8, 2)</small><table border=\"1\" class=\"dataframe\"><thead><tr><th>case</th><th>count</th></tr><tr><td>i32</td><td>u32</td></tr></thead><tbody><tr><td>0</td><td>17</td></tr><tr><td>1</td><td>20</td></tr><tr><td>2</td><td>3</td></tr><tr><td>3</td><td>432</td></tr><tr><td>4</td><td>96</td></tr><tr><td>5</td><td>17</td></tr><tr><td>6</td><td>13</td></tr><tr><td>7</td><td>6</td></tr></tbody></table></div>"
            ],
            "text/plain": [
              "shape: (8, 2)\n",
              "┌──────┬───────┐\n",
              "│ case ┆ count │\n",
              "│ ---  ┆ ---   │\n",
              "│ i32  ┆ u32   │\n",
              "╞══════╪═══════╡\n",
              "│ 0    ┆ 17    │\n",
              "│ 1    ┆ 20    │\n",
              "│ 2    ┆ 3     │\n",
              "│ 3    ┆ 432   │\n",
              "│ 4    ┆ 96    │\n",
              "│ 5    ┆ 17    │\n",
              "│ 6    ┆ 13    │\n",
              "│ 7    ┆ 6     │\n",
              "└──────┴───────┘"
            ]
          },
          "execution_count": 14,
          "metadata": {},
          "output_type": "execute_result"
        }
      ],
      "source": [
        "scam = scam.with_columns([\n",
        "    pl.struct(col)\n",
        "    .apply(get_cases, return_dtype=pl.Int32)\n",
        "    .alias(\"case\")])\n",
        "scam.groupby(\"case\")\\\n",
        "    .agg(pl.count())\\\n",
        "    .sort(\"case\")"
      ]
    },
    {
      "cell_type": "code",
      "execution_count": 15,
      "metadata": {},
      "outputs": [
        {
          "data": {
            "text/html": [
              "<div><style>\n",
              ".dataframe > thead > tr > th,\n",
              ".dataframe > tbody > tr > td {\n",
              "  text-align: right;\n",
              "}\n",
              "</style>\n",
              "<small>shape: (604, 4)</small><table border=\"1\" class=\"dataframe\"><thead><tr><th>helpful_feedback</th><th>is_seller_reply</th><th>rating</th><th>case</th></tr><tr><td>bool</td><td>bool</td><td>bool</td><td>i32</td></tr></thead><tbody><tr><td>true</td><td>true</td><td>true</td><td>7</td></tr><tr><td>true</td><td>false</td><td>true</td><td>5</td></tr><tr><td>true</td><td>true</td><td>true</td><td>7</td></tr><tr><td>true</td><td>true</td><td>true</td><td>7</td></tr><tr><td>false</td><td>true</td><td>true</td><td>3</td></tr><tr><td>true</td><td>false</td><td>false</td><td>4</td></tr><tr><td>true</td><td>false</td><td>true</td><td>5</td></tr><tr><td>false</td><td>true</td><td>false</td><td>2</td></tr><tr><td>true</td><td>false</td><td>false</td><td>4</td></tr><tr><td>true</td><td>false</td><td>false</td><td>4</td></tr><tr><td>false</td><td>true</td><td>true</td><td>3</td></tr><tr><td>false</td><td>true</td><td>true</td><td>3</td></tr><tr><td>&hellip;</td><td>&hellip;</td><td>&hellip;</td><td>&hellip;</td></tr><tr><td>false</td><td>true</td><td>true</td><td>3</td></tr><tr><td>false</td><td>true</td><td>true</td><td>3</td></tr><tr><td>false</td><td>true</td><td>true</td><td>3</td></tr><tr><td>false</td><td>true</td><td>true</td><td>3</td></tr><tr><td>false</td><td>true</td><td>true</td><td>3</td></tr><tr><td>false</td><td>true</td><td>true</td><td>3</td></tr><tr><td>false</td><td>true</td><td>true</td><td>3</td></tr><tr><td>false</td><td>true</td><td>true</td><td>3</td></tr><tr><td>false</td><td>true</td><td>true</td><td>3</td></tr><tr><td>false</td><td>true</td><td>true</td><td>3</td></tr><tr><td>false</td><td>true</td><td>true</td><td>3</td></tr><tr><td>false</td><td>true</td><td>true</td><td>3</td></tr></tbody></table></div>"
            ],
            "text/plain": [
              "shape: (604, 4)\n",
              "┌──────────────────┬─────────────────┬────────┬──────┐\n",
              "│ helpful_feedback ┆ is_seller_reply ┆ rating ┆ case │\n",
              "│ ---              ┆ ---             ┆ ---    ┆ ---  │\n",
              "│ bool             ┆ bool            ┆ bool   ┆ i32  │\n",
              "╞══════════════════╪═════════════════╪════════╪══════╡\n",
              "│ true             ┆ true            ┆ true   ┆ 7    │\n",
              "│ true             ┆ false           ┆ true   ┆ 5    │\n",
              "│ true             ┆ true            ┆ true   ┆ 7    │\n",
              "│ true             ┆ true            ┆ true   ┆ 7    │\n",
              "│ …                ┆ …               ┆ …      ┆ …    │\n",
              "│ false            ┆ true            ┆ true   ┆ 3    │\n",
              "│ false            ┆ true            ┆ true   ┆ 3    │\n",
              "│ false            ┆ true            ┆ true   ┆ 3    │\n",
              "│ false            ┆ true            ┆ true   ┆ 3    │\n",
              "└──────────────────┴─────────────────┴────────┴──────┘"
            ]
          },
          "execution_count": 15,
          "metadata": {},
          "output_type": "execute_result"
        }
      ],
      "source": [
        "scam"
      ]
    },
    {
      "cell_type": "code",
      "execution_count": null,
      "metadata": {},
      "outputs": [],
      "source": [
        "# todo"
      ]
    },
    {
      "cell_type": "code",
      "execution_count": 17,
      "metadata": {
        "id": "lfj_-SR22QMj"
      },
      "outputs": [],
      "source": [
        "from functools import reduce\n",
        "\n",
        "def final_result(a,b,c,d):\n",
        "    compute = [x for x in [a,b,c,d] if x!=0]\n",
        "    m = reduce(lambda x, y: x*y, compute)\n",
        "    s = sum(compute)\n",
        "    return len(compute)*m/s\n",
        "\n",
        "def anti_rating_formula(dict):\n",
        "    op = {\n",
        "        1:0,\n",
        "        2:0,\n",
        "        3:0,\n",
        "        4:0,\n",
        "        5:0,\n",
        "        6:0,\n",
        "        7:0,\n",
        "        8:0\n",
        "    }\n",
        "    for k, v in dict.items():\n",
        "        op.update({k:v})\n",
        "    or1 = op[8] / (op[8]+op[1]) if op[8]+op[1]!=0 else 0\n",
        "    or2 = op[6] / (op[6]+op[2]) if op[6]+op[2]!=0 else 0\n",
        "    or3 = op[7] / (op[7]+op[3]) if op[7]+op[3]!=0 else 0\n",
        "    or4 = op[5] / (op[5]+op[4]) if op[5]+op[4]!=0 else 0\n",
        "    print(or1,or2,or3,or4)\n",
        "    return final_result(or1,or2,or3,or4)"
      ]
    },
    {
      "attachments": {},
      "cell_type": "markdown",
      "metadata": {
        "id": "7JqT9CyLdpc5"
      },
      "source": [
        "original tends to have higher score"
      ]
    },
    {
      "cell_type": "code",
      "execution_count": 18,
      "metadata": {
        "colab": {
          "base_uri": "https://localhost:8080/"
        },
        "id": "08uTLnhR2QMk",
        "outputId": "cf32ebda-7eb8-41df-ec1b-9129d5d61940"
      },
      "outputs": [
        {
          "data": {
            "text/plain": [
              "{2: 2, 3: 1, 6: 214, 7: 22}"
            ]
          },
          "execution_count": 18,
          "metadata": {},
          "output_type": "execute_result"
        }
      ],
      "source": [
        "cases = original['case'].value_counts().to_dict()\n",
        "cases\n"
      ]
    },
    {
      "cell_type": "code",
      "execution_count": 19,
      "metadata": {
        "colab": {
          "base_uri": "https://localhost:8080/"
        },
        "id": "F9KXVP9a2QMk",
        "outputId": "1ecb90d4-1789-4ceb-96d8-8f33f88359aa"
      },
      "outputs": [
        {
          "name": "stdout",
          "output_type": "stream",
          "text": [
            "0 0.9907407407407407 0.9565217391304348 0\n"
          ]
        },
        {
          "data": {
            "text/plain": [
              "0.973330576803804"
            ]
          },
          "execution_count": 19,
          "metadata": {},
          "output_type": "execute_result"
        }
      ],
      "source": [
        "anti_rating_formula(cases)"
      ]
    },
    {
      "attachments": {},
      "cell_type": "markdown",
      "metadata": {
        "id": "0ciRbAEPdtTo"
      },
      "source": [
        "scam tends to have lower score"
      ]
    },
    {
      "cell_type": "code",
      "execution_count": 20,
      "metadata": {
        "colab": {
          "base_uri": "https://localhost:8080/"
        },
        "id": "r-hkDg5-2QMl",
        "outputId": "2d947808-8559-4e9b-e001-a46e15807011"
      },
      "outputs": [
        {
          "data": {
            "text/plain": [
              "{0: 17, 1: 96, 2: 3, 3: 13, 4: 20, 5: 17, 6: 432, 7: 6}"
            ]
          },
          "execution_count": 20,
          "metadata": {},
          "output_type": "execute_result"
        }
      ],
      "source": [
        "cases = scam['case'].value_counts().to_dict()\n",
        "cases"
      ]
    },
    {
      "cell_type": "code",
      "execution_count": 21,
      "metadata": {
        "colab": {
          "base_uri": "https://localhost:8080/"
        },
        "id": "jifjO6cV2QMm",
        "outputId": "f2c0c30d-4457-4eb9-bf87-8f49f5436461"
      },
      "outputs": [
        {
          "name": "stdout",
          "output_type": "stream",
          "text": [
            "0.0 0.993103448275862 0.3157894736842105 0.4594594594594595\n"
          ]
        },
        {
          "data": {
            "text/plain": [
              "0.244450978325391"
            ]
          },
          "execution_count": 21,
          "metadata": {},
          "output_type": "execute_result"
        }
      ],
      "source": [
        "anti_rating_formula(cases)"
      ]
    },
    {
      "attachments": {},
      "cell_type": "markdown",
      "metadata": {
        "id": "ShqGj_m02QMm"
      },
      "source": [
        "TO_DO: collect another edge cases"
      ]
    }
  ],
  "metadata": {
    "colab": {
      "collapsed_sections": [],
      "name": "Rating System is not Credible Anymore So I Propose a New One.ipynb",
      "provenance": []
    },
    "interpreter": {
      "hash": "732cd94673d986d220adae7452ff7524288dc2070ef612176e41709e5436443d"
    },
    "kernelspec": {
      "display_name": "Python 3.9.7 64-bit (windows store)",
      "name": "python3"
    },
    "language_info": {
      "codemirror_mode": {
        "name": "ipython",
        "version": 3
      },
      "file_extension": ".py",
      "mimetype": "text/x-python",
      "name": "python",
      "nbconvert_exporter": "python",
      "pygments_lexer": "ipython3",
      "version": "3.11.1"
    },
    "orig_nbformat": 4
  },
  "nbformat": 4,
  "nbformat_minor": 0
}
